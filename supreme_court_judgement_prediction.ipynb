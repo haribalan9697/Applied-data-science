{
  "metadata": {
    "kernelspec": {
      "language": "python",
      "display_name": "Python 3",
      "name": "python3"
    },
    "language_info": {
      "name": "python",
      "version": "3.7.12",
      "mimetype": "text/x-python",
      "codemirror_mode": {
        "name": "ipython",
        "version": 3
      },
      "pygments_lexer": "ipython3",
      "nbconvert_exporter": "python",
      "file_extension": ".py"
    },
    "colab": {
      "provenance": [],
      "include_colab_link": true
    }
  },
  "nbformat_minor": 0,
  "nbformat": 4,
  "cells": [
    {
      "cell_type": "markdown",
      "metadata": {
        "id": "view-in-github",
        "colab_type": "text"
      },
      "source": [
        "<a href=\"https://colab.research.google.com/github/haribalan9697/Applied-data-science/blob/main/supreme_court_judgement_prediction.ipynb\" target=\"_parent\"><img src=\"https://colab.research.google.com/assets/colab-badge.svg\" alt=\"Open In Colab\"/></a>"
      ]
    },
    {
      "cell_type": "markdown",
      "source": [
        "# 1. **Importing libraries that are planned to be used in our process**"
      ],
      "metadata": {
        "id": "GnBWiT3EgFbE"
      }
    },
    {
      "cell_type": "code",
      "source": [
        "# This Python 3 environment comes with many helpful analytics libraries installed\n",
        "# It is defined by the kaggle/python Docker image: https://github.com/kaggle/docker-python\n",
        "# For example, here's several helpful packages to load\n",
        "\n",
        "import numpy as np # linear algebra\n",
        "import pandas as pd # data processing, CSV file I/O (e.g. pd.read_csv)\n",
        "\n",
        "from sklearn.model_selection import train_test_split\n",
        "from sklearn.metrics import classification_report\n",
        "\n",
        "from xgboost import XGBClassifier\n",
        "from sklearn.linear_model import LogisticRegression\n",
        "from sklearn.neighbors import KNeighborsClassifier\n",
        "\n",
        "from sklearn.metrics import accuracy_score\n",
        "## for data\n",
        "import pandas as pd\n",
        "\n",
        "import re\n",
        "import nltk\n",
        "nltk.download('punkt')\n",
        "## for language detection\n",
        "\n",
        "\n",
        "\n",
        "import os\n",
        "for dirname, _, filenames in os.walk('/kaggle/input'):\n",
        "    for filename in filenames:\n",
        "        print(os.path.join(dirname, filename))"
      ],
      "metadata": {
        "_uuid": "8f2839f25d086af736a60e9eeb907d3b93b6e0e5",
        "_cell_guid": "b1076dfc-b9ad-4769-8c92-a6c4dae69d19",
        "_kg_hide-input": false,
        "execution": {
          "iopub.status.busy": "2023-05-16T15:29:36.841081Z",
          "iopub.execute_input": "2023-05-16T15:29:36.842034Z",
          "iopub.status.idle": "2023-05-16T15:29:38.272629Z",
          "shell.execute_reply.started": "2023-05-16T15:29:36.841895Z",
          "shell.execute_reply": "2023-05-16T15:29:38.271886Z"
        },
        "trusted": true,
        "id": "ItgrOPSCgFbL",
        "colab": {
          "base_uri": "https://localhost:8080/"
        },
        "outputId": "e6ee6715-e004-469b-ef3c-7a0d3707690a"
      },
      "execution_count": 1,
      "outputs": [
        {
          "output_type": "stream",
          "name": "stderr",
          "text": [
            "[nltk_data] Downloading package punkt to /root/nltk_data...\n",
            "[nltk_data]   Unzipping tokenizers/punkt.zip.\n"
          ]
        }
      ]
    },
    {
      "cell_type": "markdown",
      "source": [
        "# 2. Reading the dataset with pandas, dropping null values (calculated earlier at less than 5%) and creating a copy of the dataframe for the modelling process"
      ],
      "metadata": {
        "id": "LZ6LMi8vgFbN"
      }
    },
    {
      "cell_type": "code",
      "source": [
        "df = pd.read_csv('/content/justice.csv', delimiter=',', encoding = \"utf8\")\n",
        "df.dropna(inplace=True)\n",
        "df.head()"
      ],
      "metadata": {
        "execution": {
          "iopub.status.busy": "2023-05-16T15:29:38.274534Z",
          "iopub.execute_input": "2023-05-16T15:29:38.275018Z",
          "iopub.status.idle": "2023-05-16T15:29:38.434002Z",
          "shell.execute_reply.started": "2023-05-16T15:29:38.274981Z",
          "shell.execute_reply": "2023-05-16T15:29:38.433274Z"
        },
        "trusted": true,
        "id": "197U30XegFbN",
        "colab": {
          "base_uri": "https://localhost:8080/",
          "height": 617
        },
        "outputId": "948c4e72-9eac-4559-d8b8-95fab89eabaa"
      },
      "execution_count": 2,
      "outputs": [
        {
          "output_type": "execute_result",
          "data": {
            "text/plain": [
              "   Unnamed: 0     ID                     name  \\\n",
              "1           1  50613      Stanley v. Illinois   \n",
              "2           2  50623  Giglio v. United States   \n",
              "3           3  50632             Reed v. Reed   \n",
              "4           4  50643     Miller v. California   \n",
              "5           5  50644    Kleindienst v. Mandel   \n",
              "\n",
              "                                      href   docket  term  \\\n",
              "1  https://api.oyez.org/cases/1971/70-5014  70-5014  1971   \n",
              "2    https://api.oyez.org/cases/1971/70-29    70-29  1971   \n",
              "3     https://api.oyez.org/cases/1971/70-4     70-4  1971   \n",
              "4    https://api.oyez.org/cases/1971/70-73    70-73  1971   \n",
              "5    https://api.oyez.org/cases/1971/71-16    71-16  1971   \n",
              "\n",
              "                                         first_party  \\\n",
              "1                                Peter Stanley, Sr.    \n",
              "2                                       John Giglio    \n",
              "3                                         Sally Reed   \n",
              "4                                      Marvin Miller   \n",
              "5  Richard G. Kleindienst, Attorney General of th...   \n",
              "\n",
              "               second_party  \\\n",
              "1                  Illinois   \n",
              "2             United States   \n",
              "3                Cecil Reed   \n",
              "4                California   \n",
              "5  Ernest E. Mandel, et al.   \n",
              "\n",
              "                                               facts  facts_len  \\\n",
              "1  <p>Joan Stanley had three children with Peter ...        757   \n",
              "2  <p>John Giglio was convicted of passing forged...        495   \n",
              "3  <p>The Idaho Probate Code specified that \"male...        378   \n",
              "4  <p>Miller, after conducting a mass mailing cam...        305   \n",
              "5  <p>Ernest E. Mandel was a Belgian professional...       2282   \n",
              "\n",
              "   majority_vote  minority_vote first_party_winner     decision_type  \\\n",
              "1              5              2               True  majority opinion   \n",
              "2              7              0               True  majority opinion   \n",
              "3              7              0               True  majority opinion   \n",
              "4              5              4               True  majority opinion   \n",
              "5              6              3               True  majority opinion   \n",
              "\n",
              "         disposition       issue_area  \n",
              "1  reversed/remanded     Civil Rights  \n",
              "2  reversed/remanded      Due Process  \n",
              "3  reversed/remanded     Civil Rights  \n",
              "4   vacated/remanded  First Amendment  \n",
              "5           reversed  First Amendment  "
            ],
            "text/html": [
              "\n",
              "  <div id=\"df-2bc32b3e-5f0b-4ac4-aeaf-c6e2dc161d12\">\n",
              "    <div class=\"colab-df-container\">\n",
              "      <div>\n",
              "<style scoped>\n",
              "    .dataframe tbody tr th:only-of-type {\n",
              "        vertical-align: middle;\n",
              "    }\n",
              "\n",
              "    .dataframe tbody tr th {\n",
              "        vertical-align: top;\n",
              "    }\n",
              "\n",
              "    .dataframe thead th {\n",
              "        text-align: right;\n",
              "    }\n",
              "</style>\n",
              "<table border=\"1\" class=\"dataframe\">\n",
              "  <thead>\n",
              "    <tr style=\"text-align: right;\">\n",
              "      <th></th>\n",
              "      <th>Unnamed: 0</th>\n",
              "      <th>ID</th>\n",
              "      <th>name</th>\n",
              "      <th>href</th>\n",
              "      <th>docket</th>\n",
              "      <th>term</th>\n",
              "      <th>first_party</th>\n",
              "      <th>second_party</th>\n",
              "      <th>facts</th>\n",
              "      <th>facts_len</th>\n",
              "      <th>majority_vote</th>\n",
              "      <th>minority_vote</th>\n",
              "      <th>first_party_winner</th>\n",
              "      <th>decision_type</th>\n",
              "      <th>disposition</th>\n",
              "      <th>issue_area</th>\n",
              "    </tr>\n",
              "  </thead>\n",
              "  <tbody>\n",
              "    <tr>\n",
              "      <th>1</th>\n",
              "      <td>1</td>\n",
              "      <td>50613</td>\n",
              "      <td>Stanley v. Illinois</td>\n",
              "      <td>https://api.oyez.org/cases/1971/70-5014</td>\n",
              "      <td>70-5014</td>\n",
              "      <td>1971</td>\n",
              "      <td>Peter Stanley, Sr.</td>\n",
              "      <td>Illinois</td>\n",
              "      <td>&lt;p&gt;Joan Stanley had three children with Peter ...</td>\n",
              "      <td>757</td>\n",
              "      <td>5</td>\n",
              "      <td>2</td>\n",
              "      <td>True</td>\n",
              "      <td>majority opinion</td>\n",
              "      <td>reversed/remanded</td>\n",
              "      <td>Civil Rights</td>\n",
              "    </tr>\n",
              "    <tr>\n",
              "      <th>2</th>\n",
              "      <td>2</td>\n",
              "      <td>50623</td>\n",
              "      <td>Giglio v. United States</td>\n",
              "      <td>https://api.oyez.org/cases/1971/70-29</td>\n",
              "      <td>70-29</td>\n",
              "      <td>1971</td>\n",
              "      <td>John Giglio</td>\n",
              "      <td>United States</td>\n",
              "      <td>&lt;p&gt;John Giglio was convicted of passing forged...</td>\n",
              "      <td>495</td>\n",
              "      <td>7</td>\n",
              "      <td>0</td>\n",
              "      <td>True</td>\n",
              "      <td>majority opinion</td>\n",
              "      <td>reversed/remanded</td>\n",
              "      <td>Due Process</td>\n",
              "    </tr>\n",
              "    <tr>\n",
              "      <th>3</th>\n",
              "      <td>3</td>\n",
              "      <td>50632</td>\n",
              "      <td>Reed v. Reed</td>\n",
              "      <td>https://api.oyez.org/cases/1971/70-4</td>\n",
              "      <td>70-4</td>\n",
              "      <td>1971</td>\n",
              "      <td>Sally Reed</td>\n",
              "      <td>Cecil Reed</td>\n",
              "      <td>&lt;p&gt;The Idaho Probate Code specified that \"male...</td>\n",
              "      <td>378</td>\n",
              "      <td>7</td>\n",
              "      <td>0</td>\n",
              "      <td>True</td>\n",
              "      <td>majority opinion</td>\n",
              "      <td>reversed/remanded</td>\n",
              "      <td>Civil Rights</td>\n",
              "    </tr>\n",
              "    <tr>\n",
              "      <th>4</th>\n",
              "      <td>4</td>\n",
              "      <td>50643</td>\n",
              "      <td>Miller v. California</td>\n",
              "      <td>https://api.oyez.org/cases/1971/70-73</td>\n",
              "      <td>70-73</td>\n",
              "      <td>1971</td>\n",
              "      <td>Marvin Miller</td>\n",
              "      <td>California</td>\n",
              "      <td>&lt;p&gt;Miller, after conducting a mass mailing cam...</td>\n",
              "      <td>305</td>\n",
              "      <td>5</td>\n",
              "      <td>4</td>\n",
              "      <td>True</td>\n",
              "      <td>majority opinion</td>\n",
              "      <td>vacated/remanded</td>\n",
              "      <td>First Amendment</td>\n",
              "    </tr>\n",
              "    <tr>\n",
              "      <th>5</th>\n",
              "      <td>5</td>\n",
              "      <td>50644</td>\n",
              "      <td>Kleindienst v. Mandel</td>\n",
              "      <td>https://api.oyez.org/cases/1971/71-16</td>\n",
              "      <td>71-16</td>\n",
              "      <td>1971</td>\n",
              "      <td>Richard G. Kleindienst, Attorney General of th...</td>\n",
              "      <td>Ernest E. Mandel, et al.</td>\n",
              "      <td>&lt;p&gt;Ernest E. Mandel was a Belgian professional...</td>\n",
              "      <td>2282</td>\n",
              "      <td>6</td>\n",
              "      <td>3</td>\n",
              "      <td>True</td>\n",
              "      <td>majority opinion</td>\n",
              "      <td>reversed</td>\n",
              "      <td>First Amendment</td>\n",
              "    </tr>\n",
              "  </tbody>\n",
              "</table>\n",
              "</div>\n",
              "      <button class=\"colab-df-convert\" onclick=\"convertToInteractive('df-2bc32b3e-5f0b-4ac4-aeaf-c6e2dc161d12')\"\n",
              "              title=\"Convert this dataframe to an interactive table.\"\n",
              "              style=\"display:none;\">\n",
              "        \n",
              "  <svg xmlns=\"http://www.w3.org/2000/svg\" height=\"24px\"viewBox=\"0 0 24 24\"\n",
              "       width=\"24px\">\n",
              "    <path d=\"M0 0h24v24H0V0z\" fill=\"none\"/>\n",
              "    <path d=\"M18.56 5.44l.94 2.06.94-2.06 2.06-.94-2.06-.94-.94-2.06-.94 2.06-2.06.94zm-11 1L8.5 8.5l.94-2.06 2.06-.94-2.06-.94L8.5 2.5l-.94 2.06-2.06.94zm10 10l.94 2.06.94-2.06 2.06-.94-2.06-.94-.94-2.06-.94 2.06-2.06.94z\"/><path d=\"M17.41 7.96l-1.37-1.37c-.4-.4-.92-.59-1.43-.59-.52 0-1.04.2-1.43.59L10.3 9.45l-7.72 7.72c-.78.78-.78 2.05 0 2.83L4 21.41c.39.39.9.59 1.41.59.51 0 1.02-.2 1.41-.59l7.78-7.78 2.81-2.81c.8-.78.8-2.07 0-2.86zM5.41 20L4 18.59l7.72-7.72 1.47 1.35L5.41 20z\"/>\n",
              "  </svg>\n",
              "      </button>\n",
              "      \n",
              "  <style>\n",
              "    .colab-df-container {\n",
              "      display:flex;\n",
              "      flex-wrap:wrap;\n",
              "      gap: 12px;\n",
              "    }\n",
              "\n",
              "    .colab-df-convert {\n",
              "      background-color: #E8F0FE;\n",
              "      border: none;\n",
              "      border-radius: 50%;\n",
              "      cursor: pointer;\n",
              "      display: none;\n",
              "      fill: #1967D2;\n",
              "      height: 32px;\n",
              "      padding: 0 0 0 0;\n",
              "      width: 32px;\n",
              "    }\n",
              "\n",
              "    .colab-df-convert:hover {\n",
              "      background-color: #E2EBFA;\n",
              "      box-shadow: 0px 1px 2px rgba(60, 64, 67, 0.3), 0px 1px 3px 1px rgba(60, 64, 67, 0.15);\n",
              "      fill: #174EA6;\n",
              "    }\n",
              "\n",
              "    [theme=dark] .colab-df-convert {\n",
              "      background-color: #3B4455;\n",
              "      fill: #D2E3FC;\n",
              "    }\n",
              "\n",
              "    [theme=dark] .colab-df-convert:hover {\n",
              "      background-color: #434B5C;\n",
              "      box-shadow: 0px 1px 3px 1px rgba(0, 0, 0, 0.15);\n",
              "      filter: drop-shadow(0px 1px 2px rgba(0, 0, 0, 0.3));\n",
              "      fill: #FFFFFF;\n",
              "    }\n",
              "  </style>\n",
              "\n",
              "      <script>\n",
              "        const buttonEl =\n",
              "          document.querySelector('#df-2bc32b3e-5f0b-4ac4-aeaf-c6e2dc161d12 button.colab-df-convert');\n",
              "        buttonEl.style.display =\n",
              "          google.colab.kernel.accessAllowed ? 'block' : 'none';\n",
              "\n",
              "        async function convertToInteractive(key) {\n",
              "          const element = document.querySelector('#df-2bc32b3e-5f0b-4ac4-aeaf-c6e2dc161d12');\n",
              "          const dataTable =\n",
              "            await google.colab.kernel.invokeFunction('convertToInteractive',\n",
              "                                                     [key], {});\n",
              "          if (!dataTable) return;\n",
              "\n",
              "          const docLinkHtml = 'Like what you see? Visit the ' +\n",
              "            '<a target=\"_blank\" href=https://colab.research.google.com/notebooks/data_table.ipynb>data table notebook</a>'\n",
              "            + ' to learn more about interactive tables.';\n",
              "          element.innerHTML = '';\n",
              "          dataTable['output_type'] = 'display_data';\n",
              "          await google.colab.output.renderOutput(dataTable, element);\n",
              "          const docLink = document.createElement('div');\n",
              "          docLink.innerHTML = docLinkHtml;\n",
              "          element.appendChild(docLink);\n",
              "        }\n",
              "      </script>\n",
              "    </div>\n",
              "  </div>\n",
              "  "
            ]
          },
          "metadata": {},
          "execution_count": 2
        }
      ]
    },
    {
      "cell_type": "code",
      "source": [
        "df1 = df.copy()"
      ],
      "metadata": {
        "execution": {
          "iopub.status.busy": "2023-05-16T15:29:38.435203Z",
          "iopub.execute_input": "2023-05-16T15:29:38.435512Z",
          "iopub.status.idle": "2023-05-16T15:29:38.440644Z",
          "shell.execute_reply.started": "2023-05-16T15:29:38.435441Z",
          "shell.execute_reply": "2023-05-16T15:29:38.439690Z"
        },
        "trusted": true,
        "id": "Vh6qBfMMgFbN"
      },
      "execution_count": 3,
      "outputs": []
    },
    {
      "cell_type": "code",
      "source": [
        "df1.drop(columns=['Unnamed: 0', 'docket','name','first_party','second_party', 'issue_area', \n",
        "                 'facts_len', 'majority_vote', 'minority_vote', 'href', 'ID','term'], inplace=True)"
      ],
      "metadata": {
        "execution": {
          "iopub.status.busy": "2023-05-16T15:29:38.442083Z",
          "iopub.execute_input": "2023-05-16T15:29:38.442915Z",
          "iopub.status.idle": "2023-05-16T15:29:38.453508Z",
          "shell.execute_reply.started": "2023-05-16T15:29:38.442886Z",
          "shell.execute_reply": "2023-05-16T15:29:38.452660Z"
        },
        "trusted": true,
        "id": "rB5SPqiLgFbN"
      },
      "execution_count": 4,
      "outputs": []
    },
    {
      "cell_type": "markdown",
      "source": [
        "# 3. Seperating the dataset into target variables and two groups of independent variables, one (df_cat) which requires one-hot encoding to be machine readable and the other (df_nlp) which is text data which needs to be cleaned for features to be engineered from it."
      ],
      "metadata": {
        "id": "OYVc-bl8gFbO"
      }
    },
    {
      "cell_type": "code",
      "source": [
        "df_cat = df1[['decision_type', 'disposition']]"
      ],
      "metadata": {
        "execution": {
          "iopub.status.busy": "2023-05-16T15:29:38.456239Z",
          "iopub.execute_input": "2023-05-16T15:29:38.456506Z",
          "iopub.status.idle": "2023-05-16T15:29:38.464467Z",
          "shell.execute_reply.started": "2023-05-16T15:29:38.456472Z",
          "shell.execute_reply": "2023-05-16T15:29:38.463692Z"
        },
        "trusted": true,
        "id": "2rZJZ8_KgFbO"
      },
      "execution_count": 5,
      "outputs": []
    },
    {
      "cell_type": "code",
      "source": [
        "df_target = df1['first_party_winner']"
      ],
      "metadata": {
        "execution": {
          "iopub.status.busy": "2023-05-16T15:29:38.467223Z",
          "iopub.execute_input": "2023-05-16T15:29:38.467444Z",
          "iopub.status.idle": "2023-05-16T15:29:38.476224Z",
          "shell.execute_reply.started": "2023-05-16T15:29:38.467416Z",
          "shell.execute_reply": "2023-05-16T15:29:38.475295Z"
        },
        "trusted": true,
        "id": "S3gKuTKggFbO"
      },
      "execution_count": 6,
      "outputs": []
    },
    {
      "cell_type": "code",
      "source": [
        "df_nlp = df1['facts']"
      ],
      "metadata": {
        "execution": {
          "iopub.status.busy": "2023-05-16T15:29:38.478507Z",
          "iopub.execute_input": "2023-05-16T15:29:38.478857Z",
          "iopub.status.idle": "2023-05-16T15:29:38.486538Z",
          "shell.execute_reply.started": "2023-05-16T15:29:38.478822Z",
          "shell.execute_reply": "2023-05-16T15:29:38.485822Z"
        },
        "trusted": true,
        "id": "ncSBEX71gFbO"
      },
      "execution_count": 7,
      "outputs": []
    },
    {
      "cell_type": "markdown",
      "source": [
        "# 4. Resetting indices to avoid NaNs during concatenation and performing one-hot encoding"
      ],
      "metadata": {
        "id": "C0-gHQUYgFbO"
      }
    },
    {
      "cell_type": "code",
      "source": [
        "df_cat.reset_index(drop=True, inplace=True)\n",
        "df_target.reset_index(drop=True, inplace=True)\n",
        "df_nlp.reset_index(drop=True, inplace=True)"
      ],
      "metadata": {
        "execution": {
          "iopub.status.busy": "2023-05-16T15:29:38.488664Z",
          "iopub.execute_input": "2023-05-16T15:29:38.490528Z",
          "iopub.status.idle": "2023-05-16T15:29:38.497195Z",
          "shell.execute_reply.started": "2023-05-16T15:29:38.490491Z",
          "shell.execute_reply": "2023-05-16T15:29:38.496479Z"
        },
        "trusted": true,
        "id": "P6bWnnl3gFbO"
      },
      "execution_count": 8,
      "outputs": []
    },
    {
      "cell_type": "code",
      "source": [
        "from sklearn import preprocessing\n",
        "label_encoder = preprocessing.LabelEncoder()\n",
        "df_target= label_encoder.fit_transform(df_target)"
      ],
      "metadata": {
        "execution": {
          "iopub.status.busy": "2023-05-16T15:29:38.498423Z",
          "iopub.execute_input": "2023-05-16T15:29:38.498745Z",
          "iopub.status.idle": "2023-05-16T15:29:38.509100Z",
          "shell.execute_reply.started": "2023-05-16T15:29:38.498709Z",
          "shell.execute_reply": "2023-05-16T15:29:38.508395Z"
        },
        "trusted": true,
        "id": "FXo_j4dzgFbO"
      },
      "execution_count": 9,
      "outputs": []
    },
    {
      "cell_type": "code",
      "source": [
        "df_target1 = pd.DataFrame(df_target, columns=['first_party_winner'])\n",
        "df_target1"
      ],
      "metadata": {
        "execution": {
          "iopub.status.busy": "2023-05-16T15:29:38.512155Z",
          "iopub.execute_input": "2023-05-16T15:29:38.512374Z",
          "iopub.status.idle": "2023-05-16T15:29:38.525596Z",
          "shell.execute_reply.started": "2023-05-16T15:29:38.512326Z",
          "shell.execute_reply": "2023-05-16T15:29:38.524842Z"
        },
        "trusted": true,
        "id": "Nb3mlpw5gFbO",
        "colab": {
          "base_uri": "https://localhost:8080/",
          "height": 424
        },
        "outputId": "e6ab6a47-5eec-4f26-f4df-82a88847ff4b"
      },
      "execution_count": 10,
      "outputs": [
        {
          "output_type": "execute_result",
          "data": {
            "text/plain": [
              "      first_party_winner\n",
              "0                      1\n",
              "1                      1\n",
              "2                      1\n",
              "3                      1\n",
              "4                      1\n",
              "...                  ...\n",
              "3093                   1\n",
              "3094                   1\n",
              "3095                   0\n",
              "3096                   1\n",
              "3097                   1\n",
              "\n",
              "[3098 rows x 1 columns]"
            ],
            "text/html": [
              "\n",
              "  <div id=\"df-d0284a85-eb76-4537-9b7b-450080568ca7\">\n",
              "    <div class=\"colab-df-container\">\n",
              "      <div>\n",
              "<style scoped>\n",
              "    .dataframe tbody tr th:only-of-type {\n",
              "        vertical-align: middle;\n",
              "    }\n",
              "\n",
              "    .dataframe tbody tr th {\n",
              "        vertical-align: top;\n",
              "    }\n",
              "\n",
              "    .dataframe thead th {\n",
              "        text-align: right;\n",
              "    }\n",
              "</style>\n",
              "<table border=\"1\" class=\"dataframe\">\n",
              "  <thead>\n",
              "    <tr style=\"text-align: right;\">\n",
              "      <th></th>\n",
              "      <th>first_party_winner</th>\n",
              "    </tr>\n",
              "  </thead>\n",
              "  <tbody>\n",
              "    <tr>\n",
              "      <th>0</th>\n",
              "      <td>1</td>\n",
              "    </tr>\n",
              "    <tr>\n",
              "      <th>1</th>\n",
              "      <td>1</td>\n",
              "    </tr>\n",
              "    <tr>\n",
              "      <th>2</th>\n",
              "      <td>1</td>\n",
              "    </tr>\n",
              "    <tr>\n",
              "      <th>3</th>\n",
              "      <td>1</td>\n",
              "    </tr>\n",
              "    <tr>\n",
              "      <th>4</th>\n",
              "      <td>1</td>\n",
              "    </tr>\n",
              "    <tr>\n",
              "      <th>...</th>\n",
              "      <td>...</td>\n",
              "    </tr>\n",
              "    <tr>\n",
              "      <th>3093</th>\n",
              "      <td>1</td>\n",
              "    </tr>\n",
              "    <tr>\n",
              "      <th>3094</th>\n",
              "      <td>1</td>\n",
              "    </tr>\n",
              "    <tr>\n",
              "      <th>3095</th>\n",
              "      <td>0</td>\n",
              "    </tr>\n",
              "    <tr>\n",
              "      <th>3096</th>\n",
              "      <td>1</td>\n",
              "    </tr>\n",
              "    <tr>\n",
              "      <th>3097</th>\n",
              "      <td>1</td>\n",
              "    </tr>\n",
              "  </tbody>\n",
              "</table>\n",
              "<p>3098 rows × 1 columns</p>\n",
              "</div>\n",
              "      <button class=\"colab-df-convert\" onclick=\"convertToInteractive('df-d0284a85-eb76-4537-9b7b-450080568ca7')\"\n",
              "              title=\"Convert this dataframe to an interactive table.\"\n",
              "              style=\"display:none;\">\n",
              "        \n",
              "  <svg xmlns=\"http://www.w3.org/2000/svg\" height=\"24px\"viewBox=\"0 0 24 24\"\n",
              "       width=\"24px\">\n",
              "    <path d=\"M0 0h24v24H0V0z\" fill=\"none\"/>\n",
              "    <path d=\"M18.56 5.44l.94 2.06.94-2.06 2.06-.94-2.06-.94-.94-2.06-.94 2.06-2.06.94zm-11 1L8.5 8.5l.94-2.06 2.06-.94-2.06-.94L8.5 2.5l-.94 2.06-2.06.94zm10 10l.94 2.06.94-2.06 2.06-.94-2.06-.94-.94-2.06-.94 2.06-2.06.94z\"/><path d=\"M17.41 7.96l-1.37-1.37c-.4-.4-.92-.59-1.43-.59-.52 0-1.04.2-1.43.59L10.3 9.45l-7.72 7.72c-.78.78-.78 2.05 0 2.83L4 21.41c.39.39.9.59 1.41.59.51 0 1.02-.2 1.41-.59l7.78-7.78 2.81-2.81c.8-.78.8-2.07 0-2.86zM5.41 20L4 18.59l7.72-7.72 1.47 1.35L5.41 20z\"/>\n",
              "  </svg>\n",
              "      </button>\n",
              "      \n",
              "  <style>\n",
              "    .colab-df-container {\n",
              "      display:flex;\n",
              "      flex-wrap:wrap;\n",
              "      gap: 12px;\n",
              "    }\n",
              "\n",
              "    .colab-df-convert {\n",
              "      background-color: #E8F0FE;\n",
              "      border: none;\n",
              "      border-radius: 50%;\n",
              "      cursor: pointer;\n",
              "      display: none;\n",
              "      fill: #1967D2;\n",
              "      height: 32px;\n",
              "      padding: 0 0 0 0;\n",
              "      width: 32px;\n",
              "    }\n",
              "\n",
              "    .colab-df-convert:hover {\n",
              "      background-color: #E2EBFA;\n",
              "      box-shadow: 0px 1px 2px rgba(60, 64, 67, 0.3), 0px 1px 3px 1px rgba(60, 64, 67, 0.15);\n",
              "      fill: #174EA6;\n",
              "    }\n",
              "\n",
              "    [theme=dark] .colab-df-convert {\n",
              "      background-color: #3B4455;\n",
              "      fill: #D2E3FC;\n",
              "    }\n",
              "\n",
              "    [theme=dark] .colab-df-convert:hover {\n",
              "      background-color: #434B5C;\n",
              "      box-shadow: 0px 1px 3px 1px rgba(0, 0, 0, 0.15);\n",
              "      filter: drop-shadow(0px 1px 2px rgba(0, 0, 0, 0.3));\n",
              "      fill: #FFFFFF;\n",
              "    }\n",
              "  </style>\n",
              "\n",
              "      <script>\n",
              "        const buttonEl =\n",
              "          document.querySelector('#df-d0284a85-eb76-4537-9b7b-450080568ca7 button.colab-df-convert');\n",
              "        buttonEl.style.display =\n",
              "          google.colab.kernel.accessAllowed ? 'block' : 'none';\n",
              "\n",
              "        async function convertToInteractive(key) {\n",
              "          const element = document.querySelector('#df-d0284a85-eb76-4537-9b7b-450080568ca7');\n",
              "          const dataTable =\n",
              "            await google.colab.kernel.invokeFunction('convertToInteractive',\n",
              "                                                     [key], {});\n",
              "          if (!dataTable) return;\n",
              "\n",
              "          const docLinkHtml = 'Like what you see? Visit the ' +\n",
              "            '<a target=\"_blank\" href=https://colab.research.google.com/notebooks/data_table.ipynb>data table notebook</a>'\n",
              "            + ' to learn more about interactive tables.';\n",
              "          element.innerHTML = '';\n",
              "          dataTable['output_type'] = 'display_data';\n",
              "          await google.colab.output.renderOutput(dataTable, element);\n",
              "          const docLink = document.createElement('div');\n",
              "          docLink.innerHTML = docLinkHtml;\n",
              "          element.appendChild(docLink);\n",
              "        }\n",
              "      </script>\n",
              "    </div>\n",
              "  </div>\n",
              "  "
            ]
          },
          "metadata": {},
          "execution_count": 10
        }
      ]
    },
    {
      "cell_type": "code",
      "source": [
        "frames = [df_cat, df_target1]\n",
        "df_concat = pd.concat(frames, axis=1, join='inner')\n",
        "df_concat"
      ],
      "metadata": {
        "execution": {
          "iopub.status.busy": "2023-05-16T15:29:38.526713Z",
          "iopub.execute_input": "2023-05-16T15:29:38.527504Z",
          "iopub.status.idle": "2023-05-16T15:29:38.544100Z",
          "shell.execute_reply.started": "2023-05-16T15:29:38.527467Z",
          "shell.execute_reply": "2023-05-16T15:29:38.543341Z"
        },
        "trusted": true,
        "id": "4A_tfsF3gFbP",
        "colab": {
          "base_uri": "https://localhost:8080/",
          "height": 424
        },
        "outputId": "d7183499-2336-417f-fb33-7dad2d6706e7"
      },
      "execution_count": 11,
      "outputs": [
        {
          "output_type": "execute_result",
          "data": {
            "text/plain": [
              "         decision_type        disposition  first_party_winner\n",
              "0     majority opinion  reversed/remanded                   1\n",
              "1     majority opinion  reversed/remanded                   1\n",
              "2     majority opinion  reversed/remanded                   1\n",
              "3     majority opinion   vacated/remanded                   1\n",
              "4     majority opinion           reversed                   1\n",
              "...                ...                ...                 ...\n",
              "3093  majority opinion  reversed/remanded                   1\n",
              "3094  majority opinion  reversed/remanded                   1\n",
              "3095  majority opinion           affirmed                   0\n",
              "3096  majority opinion   vacated/remanded                   1\n",
              "3097  majority opinion  reversed/remanded                   1\n",
              "\n",
              "[3098 rows x 3 columns]"
            ],
            "text/html": [
              "\n",
              "  <div id=\"df-c0b761c7-6498-4f96-a6c2-a40b31f9977b\">\n",
              "    <div class=\"colab-df-container\">\n",
              "      <div>\n",
              "<style scoped>\n",
              "    .dataframe tbody tr th:only-of-type {\n",
              "        vertical-align: middle;\n",
              "    }\n",
              "\n",
              "    .dataframe tbody tr th {\n",
              "        vertical-align: top;\n",
              "    }\n",
              "\n",
              "    .dataframe thead th {\n",
              "        text-align: right;\n",
              "    }\n",
              "</style>\n",
              "<table border=\"1\" class=\"dataframe\">\n",
              "  <thead>\n",
              "    <tr style=\"text-align: right;\">\n",
              "      <th></th>\n",
              "      <th>decision_type</th>\n",
              "      <th>disposition</th>\n",
              "      <th>first_party_winner</th>\n",
              "    </tr>\n",
              "  </thead>\n",
              "  <tbody>\n",
              "    <tr>\n",
              "      <th>0</th>\n",
              "      <td>majority opinion</td>\n",
              "      <td>reversed/remanded</td>\n",
              "      <td>1</td>\n",
              "    </tr>\n",
              "    <tr>\n",
              "      <th>1</th>\n",
              "      <td>majority opinion</td>\n",
              "      <td>reversed/remanded</td>\n",
              "      <td>1</td>\n",
              "    </tr>\n",
              "    <tr>\n",
              "      <th>2</th>\n",
              "      <td>majority opinion</td>\n",
              "      <td>reversed/remanded</td>\n",
              "      <td>1</td>\n",
              "    </tr>\n",
              "    <tr>\n",
              "      <th>3</th>\n",
              "      <td>majority opinion</td>\n",
              "      <td>vacated/remanded</td>\n",
              "      <td>1</td>\n",
              "    </tr>\n",
              "    <tr>\n",
              "      <th>4</th>\n",
              "      <td>majority opinion</td>\n",
              "      <td>reversed</td>\n",
              "      <td>1</td>\n",
              "    </tr>\n",
              "    <tr>\n",
              "      <th>...</th>\n",
              "      <td>...</td>\n",
              "      <td>...</td>\n",
              "      <td>...</td>\n",
              "    </tr>\n",
              "    <tr>\n",
              "      <th>3093</th>\n",
              "      <td>majority opinion</td>\n",
              "      <td>reversed/remanded</td>\n",
              "      <td>1</td>\n",
              "    </tr>\n",
              "    <tr>\n",
              "      <th>3094</th>\n",
              "      <td>majority opinion</td>\n",
              "      <td>reversed/remanded</td>\n",
              "      <td>1</td>\n",
              "    </tr>\n",
              "    <tr>\n",
              "      <th>3095</th>\n",
              "      <td>majority opinion</td>\n",
              "      <td>affirmed</td>\n",
              "      <td>0</td>\n",
              "    </tr>\n",
              "    <tr>\n",
              "      <th>3096</th>\n",
              "      <td>majority opinion</td>\n",
              "      <td>vacated/remanded</td>\n",
              "      <td>1</td>\n",
              "    </tr>\n",
              "    <tr>\n",
              "      <th>3097</th>\n",
              "      <td>majority opinion</td>\n",
              "      <td>reversed/remanded</td>\n",
              "      <td>1</td>\n",
              "    </tr>\n",
              "  </tbody>\n",
              "</table>\n",
              "<p>3098 rows × 3 columns</p>\n",
              "</div>\n",
              "      <button class=\"colab-df-convert\" onclick=\"convertToInteractive('df-c0b761c7-6498-4f96-a6c2-a40b31f9977b')\"\n",
              "              title=\"Convert this dataframe to an interactive table.\"\n",
              "              style=\"display:none;\">\n",
              "        \n",
              "  <svg xmlns=\"http://www.w3.org/2000/svg\" height=\"24px\"viewBox=\"0 0 24 24\"\n",
              "       width=\"24px\">\n",
              "    <path d=\"M0 0h24v24H0V0z\" fill=\"none\"/>\n",
              "    <path d=\"M18.56 5.44l.94 2.06.94-2.06 2.06-.94-2.06-.94-.94-2.06-.94 2.06-2.06.94zm-11 1L8.5 8.5l.94-2.06 2.06-.94-2.06-.94L8.5 2.5l-.94 2.06-2.06.94zm10 10l.94 2.06.94-2.06 2.06-.94-2.06-.94-.94-2.06-.94 2.06-2.06.94z\"/><path d=\"M17.41 7.96l-1.37-1.37c-.4-.4-.92-.59-1.43-.59-.52 0-1.04.2-1.43.59L10.3 9.45l-7.72 7.72c-.78.78-.78 2.05 0 2.83L4 21.41c.39.39.9.59 1.41.59.51 0 1.02-.2 1.41-.59l7.78-7.78 2.81-2.81c.8-.78.8-2.07 0-2.86zM5.41 20L4 18.59l7.72-7.72 1.47 1.35L5.41 20z\"/>\n",
              "  </svg>\n",
              "      </button>\n",
              "      \n",
              "  <style>\n",
              "    .colab-df-container {\n",
              "      display:flex;\n",
              "      flex-wrap:wrap;\n",
              "      gap: 12px;\n",
              "    }\n",
              "\n",
              "    .colab-df-convert {\n",
              "      background-color: #E8F0FE;\n",
              "      border: none;\n",
              "      border-radius: 50%;\n",
              "      cursor: pointer;\n",
              "      display: none;\n",
              "      fill: #1967D2;\n",
              "      height: 32px;\n",
              "      padding: 0 0 0 0;\n",
              "      width: 32px;\n",
              "    }\n",
              "\n",
              "    .colab-df-convert:hover {\n",
              "      background-color: #E2EBFA;\n",
              "      box-shadow: 0px 1px 2px rgba(60, 64, 67, 0.3), 0px 1px 3px 1px rgba(60, 64, 67, 0.15);\n",
              "      fill: #174EA6;\n",
              "    }\n",
              "\n",
              "    [theme=dark] .colab-df-convert {\n",
              "      background-color: #3B4455;\n",
              "      fill: #D2E3FC;\n",
              "    }\n",
              "\n",
              "    [theme=dark] .colab-df-convert:hover {\n",
              "      background-color: #434B5C;\n",
              "      box-shadow: 0px 1px 3px 1px rgba(0, 0, 0, 0.15);\n",
              "      filter: drop-shadow(0px 1px 2px rgba(0, 0, 0, 0.3));\n",
              "      fill: #FFFFFF;\n",
              "    }\n",
              "  </style>\n",
              "\n",
              "      <script>\n",
              "        const buttonEl =\n",
              "          document.querySelector('#df-c0b761c7-6498-4f96-a6c2-a40b31f9977b button.colab-df-convert');\n",
              "        buttonEl.style.display =\n",
              "          google.colab.kernel.accessAllowed ? 'block' : 'none';\n",
              "\n",
              "        async function convertToInteractive(key) {\n",
              "          const element = document.querySelector('#df-c0b761c7-6498-4f96-a6c2-a40b31f9977b');\n",
              "          const dataTable =\n",
              "            await google.colab.kernel.invokeFunction('convertToInteractive',\n",
              "                                                     [key], {});\n",
              "          if (!dataTable) return;\n",
              "\n",
              "          const docLinkHtml = 'Like what you see? Visit the ' +\n",
              "            '<a target=\"_blank\" href=https://colab.research.google.com/notebooks/data_table.ipynb>data table notebook</a>'\n",
              "            + ' to learn more about interactive tables.';\n",
              "          element.innerHTML = '';\n",
              "          dataTable['output_type'] = 'display_data';\n",
              "          await google.colab.output.renderOutput(dataTable, element);\n",
              "          const docLink = document.createElement('div');\n",
              "          docLink.innerHTML = docLinkHtml;\n",
              "          element.appendChild(docLink);\n",
              "        }\n",
              "      </script>\n",
              "    </div>\n",
              "  </div>\n",
              "  "
            ]
          },
          "metadata": {},
          "execution_count": 11
        }
      ]
    },
    {
      "cell_type": "code",
      "source": [
        "df_nlp1 = pd.DataFrame(df_nlp, columns=['facts'])"
      ],
      "metadata": {
        "execution": {
          "iopub.status.busy": "2023-05-16T15:29:38.545341Z",
          "iopub.execute_input": "2023-05-16T15:29:38.546107Z",
          "iopub.status.idle": "2023-05-16T15:29:38.555135Z",
          "shell.execute_reply.started": "2023-05-16T15:29:38.546067Z",
          "shell.execute_reply": "2023-05-16T15:29:38.554395Z"
        },
        "trusted": true,
        "id": "jeMkdkrLgFbP"
      },
      "execution_count": 12,
      "outputs": []
    },
    {
      "cell_type": "code",
      "source": [
        "df_nlp1['facts'] = df_nlp1['facts'].str.replace(r'<[^<>]*>', '', regex=True)\n",
        "df_nlp1"
      ],
      "metadata": {
        "execution": {
          "iopub.status.busy": "2023-05-16T15:29:38.556659Z",
          "iopub.execute_input": "2023-05-16T15:29:38.556967Z",
          "iopub.status.idle": "2023-05-16T15:29:38.586111Z",
          "shell.execute_reply.started": "2023-05-16T15:29:38.556932Z",
          "shell.execute_reply": "2023-05-16T15:29:38.585222Z"
        },
        "trusted": true,
        "id": "V_t9cxZ8gFbP",
        "colab": {
          "base_uri": "https://localhost:8080/",
          "height": 424
        },
        "outputId": "8e116d29-5081-4fc2-ba2f-94e7b6ae359a"
      },
      "execution_count": 13,
      "outputs": [
        {
          "output_type": "execute_result",
          "data": {
            "text/plain": [
              "                                                  facts\n",
              "0     Joan Stanley had three children with Peter Sta...\n",
              "1     John Giglio was convicted of passing forged mo...\n",
              "2     The Idaho Probate Code specified that \"males m...\n",
              "3     Miller, after conducting a mass mailing campai...\n",
              "4     Ernest E. Mandel was a Belgian professional jo...\n",
              "...                                                 ...\n",
              "3093  For over a century after the Alaska Purchase i...\n",
              "3094  Refugio Palomar-Santiago, a Mexican national, ...\n",
              "3095  Tarahrick Terry pleaded guilty to one count of...\n",
              "3096  Joshua James Cooley was parked in his pickup t...\n",
              "3097  The Natural Gas Act (NGA), 15 U.S.C. §§ 717–71...\n",
              "\n",
              "[3098 rows x 1 columns]"
            ],
            "text/html": [
              "\n",
              "  <div id=\"df-6f1c6e4e-44b6-4cde-bbc3-25d49a8c7d4c\">\n",
              "    <div class=\"colab-df-container\">\n",
              "      <div>\n",
              "<style scoped>\n",
              "    .dataframe tbody tr th:only-of-type {\n",
              "        vertical-align: middle;\n",
              "    }\n",
              "\n",
              "    .dataframe tbody tr th {\n",
              "        vertical-align: top;\n",
              "    }\n",
              "\n",
              "    .dataframe thead th {\n",
              "        text-align: right;\n",
              "    }\n",
              "</style>\n",
              "<table border=\"1\" class=\"dataframe\">\n",
              "  <thead>\n",
              "    <tr style=\"text-align: right;\">\n",
              "      <th></th>\n",
              "      <th>facts</th>\n",
              "    </tr>\n",
              "  </thead>\n",
              "  <tbody>\n",
              "    <tr>\n",
              "      <th>0</th>\n",
              "      <td>Joan Stanley had three children with Peter Sta...</td>\n",
              "    </tr>\n",
              "    <tr>\n",
              "      <th>1</th>\n",
              "      <td>John Giglio was convicted of passing forged mo...</td>\n",
              "    </tr>\n",
              "    <tr>\n",
              "      <th>2</th>\n",
              "      <td>The Idaho Probate Code specified that \"males m...</td>\n",
              "    </tr>\n",
              "    <tr>\n",
              "      <th>3</th>\n",
              "      <td>Miller, after conducting a mass mailing campai...</td>\n",
              "    </tr>\n",
              "    <tr>\n",
              "      <th>4</th>\n",
              "      <td>Ernest E. Mandel was a Belgian professional jo...</td>\n",
              "    </tr>\n",
              "    <tr>\n",
              "      <th>...</th>\n",
              "      <td>...</td>\n",
              "    </tr>\n",
              "    <tr>\n",
              "      <th>3093</th>\n",
              "      <td>For over a century after the Alaska Purchase i...</td>\n",
              "    </tr>\n",
              "    <tr>\n",
              "      <th>3094</th>\n",
              "      <td>Refugio Palomar-Santiago, a Mexican national, ...</td>\n",
              "    </tr>\n",
              "    <tr>\n",
              "      <th>3095</th>\n",
              "      <td>Tarahrick Terry pleaded guilty to one count of...</td>\n",
              "    </tr>\n",
              "    <tr>\n",
              "      <th>3096</th>\n",
              "      <td>Joshua James Cooley was parked in his pickup t...</td>\n",
              "    </tr>\n",
              "    <tr>\n",
              "      <th>3097</th>\n",
              "      <td>The Natural Gas Act (NGA), 15 U.S.C. §§ 717–71...</td>\n",
              "    </tr>\n",
              "  </tbody>\n",
              "</table>\n",
              "<p>3098 rows × 1 columns</p>\n",
              "</div>\n",
              "      <button class=\"colab-df-convert\" onclick=\"convertToInteractive('df-6f1c6e4e-44b6-4cde-bbc3-25d49a8c7d4c')\"\n",
              "              title=\"Convert this dataframe to an interactive table.\"\n",
              "              style=\"display:none;\">\n",
              "        \n",
              "  <svg xmlns=\"http://www.w3.org/2000/svg\" height=\"24px\"viewBox=\"0 0 24 24\"\n",
              "       width=\"24px\">\n",
              "    <path d=\"M0 0h24v24H0V0z\" fill=\"none\"/>\n",
              "    <path d=\"M18.56 5.44l.94 2.06.94-2.06 2.06-.94-2.06-.94-.94-2.06-.94 2.06-2.06.94zm-11 1L8.5 8.5l.94-2.06 2.06-.94-2.06-.94L8.5 2.5l-.94 2.06-2.06.94zm10 10l.94 2.06.94-2.06 2.06-.94-2.06-.94-.94-2.06-.94 2.06-2.06.94z\"/><path d=\"M17.41 7.96l-1.37-1.37c-.4-.4-.92-.59-1.43-.59-.52 0-1.04.2-1.43.59L10.3 9.45l-7.72 7.72c-.78.78-.78 2.05 0 2.83L4 21.41c.39.39.9.59 1.41.59.51 0 1.02-.2 1.41-.59l7.78-7.78 2.81-2.81c.8-.78.8-2.07 0-2.86zM5.41 20L4 18.59l7.72-7.72 1.47 1.35L5.41 20z\"/>\n",
              "  </svg>\n",
              "      </button>\n",
              "      \n",
              "  <style>\n",
              "    .colab-df-container {\n",
              "      display:flex;\n",
              "      flex-wrap:wrap;\n",
              "      gap: 12px;\n",
              "    }\n",
              "\n",
              "    .colab-df-convert {\n",
              "      background-color: #E8F0FE;\n",
              "      border: none;\n",
              "      border-radius: 50%;\n",
              "      cursor: pointer;\n",
              "      display: none;\n",
              "      fill: #1967D2;\n",
              "      height: 32px;\n",
              "      padding: 0 0 0 0;\n",
              "      width: 32px;\n",
              "    }\n",
              "\n",
              "    .colab-df-convert:hover {\n",
              "      background-color: #E2EBFA;\n",
              "      box-shadow: 0px 1px 2px rgba(60, 64, 67, 0.3), 0px 1px 3px 1px rgba(60, 64, 67, 0.15);\n",
              "      fill: #174EA6;\n",
              "    }\n",
              "\n",
              "    [theme=dark] .colab-df-convert {\n",
              "      background-color: #3B4455;\n",
              "      fill: #D2E3FC;\n",
              "    }\n",
              "\n",
              "    [theme=dark] .colab-df-convert:hover {\n",
              "      background-color: #434B5C;\n",
              "      box-shadow: 0px 1px 3px 1px rgba(0, 0, 0, 0.15);\n",
              "      filter: drop-shadow(0px 1px 2px rgba(0, 0, 0, 0.3));\n",
              "      fill: #FFFFFF;\n",
              "    }\n",
              "  </style>\n",
              "\n",
              "      <script>\n",
              "        const buttonEl =\n",
              "          document.querySelector('#df-6f1c6e4e-44b6-4cde-bbc3-25d49a8c7d4c button.colab-df-convert');\n",
              "        buttonEl.style.display =\n",
              "          google.colab.kernel.accessAllowed ? 'block' : 'none';\n",
              "\n",
              "        async function convertToInteractive(key) {\n",
              "          const element = document.querySelector('#df-6f1c6e4e-44b6-4cde-bbc3-25d49a8c7d4c');\n",
              "          const dataTable =\n",
              "            await google.colab.kernel.invokeFunction('convertToInteractive',\n",
              "                                                     [key], {});\n",
              "          if (!dataTable) return;\n",
              "\n",
              "          const docLinkHtml = 'Like what you see? Visit the ' +\n",
              "            '<a target=\"_blank\" href=https://colab.research.google.com/notebooks/data_table.ipynb>data table notebook</a>'\n",
              "            + ' to learn more about interactive tables.';\n",
              "          element.innerHTML = '';\n",
              "          dataTable['output_type'] = 'display_data';\n",
              "          await google.colab.output.renderOutput(dataTable, element);\n",
              "          const docLink = document.createElement('div');\n",
              "          docLink.innerHTML = docLinkHtml;\n",
              "          element.appendChild(docLink);\n",
              "        }\n",
              "      </script>\n",
              "    </div>\n",
              "  </div>\n",
              "  "
            ]
          },
          "metadata": {},
          "execution_count": 13
        }
      ]
    },
    {
      "cell_type": "markdown",
      "source": [
        "# 5. Performing initial cleaning and tokenizing the corpus, introducing a function to perform further cleaning and Lemmatization upon the data."
      ],
      "metadata": {
        "id": "n5kU48wugFbP"
      }
    },
    {
      "cell_type": "code",
      "source": [
        "corpus = df_nlp1[\"facts\"]\n",
        "lst_tokens = nltk.tokenize.word_tokenize(corpus.str.cat(sep=\" \"))"
      ],
      "metadata": {
        "execution": {
          "iopub.status.busy": "2023-05-16T15:29:38.590684Z",
          "iopub.execute_input": "2023-05-16T15:29:38.591473Z",
          "iopub.status.idle": "2023-05-16T15:29:45.411151Z",
          "shell.execute_reply.started": "2023-05-16T15:29:38.591435Z",
          "shell.execute_reply": "2023-05-16T15:29:45.410395Z"
        },
        "trusted": true,
        "id": "xNVhL6uQgFbP"
      },
      "execution_count": 14,
      "outputs": []
    },
    {
      "cell_type": "code",
      "source": [
        "ps = nltk.stem.porter.PorterStemmer()\n",
        "lem = nltk.stem.wordnet.WordNetLemmatizer()"
      ],
      "metadata": {
        "execution": {
          "iopub.status.busy": "2023-05-16T15:29:45.413185Z",
          "iopub.execute_input": "2023-05-16T15:29:45.413609Z",
          "iopub.status.idle": "2023-05-16T15:29:45.418691Z",
          "shell.execute_reply.started": "2023-05-16T15:29:45.413567Z",
          "shell.execute_reply": "2023-05-16T15:29:45.417739Z"
        },
        "trusted": true,
        "id": "93de-xMRgFbP"
      },
      "execution_count": 15,
      "outputs": []
    },
    {
      "cell_type": "code",
      "source": [
        "nltk.download('stopwords')\n",
        "lst_stopwords = nltk.corpus.stopwords.words(\"english\")"
      ],
      "metadata": {
        "execution": {
          "iopub.status.busy": "2023-05-16T15:29:45.420127Z",
          "iopub.execute_input": "2023-05-16T15:29:45.420514Z",
          "iopub.status.idle": "2023-05-16T15:29:45.436024Z",
          "shell.execute_reply.started": "2023-05-16T15:29:45.420451Z",
          "shell.execute_reply": "2023-05-16T15:29:45.435233Z"
        },
        "trusted": true,
        "id": "LgLe3Z-wgFbP",
        "colab": {
          "base_uri": "https://localhost:8080/"
        },
        "outputId": "33cb3399-0292-486a-9ec5-24fef6238f27"
      },
      "execution_count": 16,
      "outputs": [
        {
          "output_type": "stream",
          "name": "stderr",
          "text": [
            "[nltk_data] Downloading package stopwords to /root/nltk_data...\n",
            "[nltk_data]   Unzipping corpora/stopwords.zip.\n"
          ]
        }
      ]
    },
    {
      "cell_type": "code",
      "source": [
        "\n",
        "def utils_preprocess_text(text, flg_stemm=False, flg_lemm=True, lst_stopwords=None):\n",
        "    ## clean (convert to lowercase and remove punctuations and characters and then strip)\n",
        "    text = re.sub(r'[^\\w\\s]', '', str(text).lower().strip())\n",
        "            \n",
        "    ## Tokenize (convert from string to list)\n",
        "    lst_text = text.split()    ## remove Stopwords\n",
        "    if lst_stopwords is not None:\n",
        "        lst_text = [word for word in lst_text if word not in \n",
        "                    lst_stopwords]\n",
        "                \n",
        "    ## Stemming (remove -ing, -ly, ...)\n",
        "    if flg_stemm == True:\n",
        "        ps = nltk.stem.porter.PorterStemmer()\n",
        "        lst_text = [ps.stem(word) for word in lst_text]\n",
        "                \n",
        "    ## Lemmatisation (convert the word into root word)\n",
        "    if flg_lemm == True:\n",
        "        lem = nltk.stem.wordnet.WordNetLemmatizer()\n",
        "        lst_text = [lem.lemmatize(word) for word in lst_text]\n",
        "            \n",
        "    ## back to string from list\n",
        "    text = \" \".join(lst_text)\n",
        "    return text"
      ],
      "metadata": {
        "execution": {
          "iopub.status.busy": "2023-05-16T15:29:45.437524Z",
          "iopub.execute_input": "2023-05-16T15:29:45.437900Z",
          "iopub.status.idle": "2023-05-16T15:29:45.447634Z",
          "shell.execute_reply.started": "2023-05-16T15:29:45.437865Z",
          "shell.execute_reply": "2023-05-16T15:29:45.445397Z"
        },
        "trusted": true,
        "id": "XfuzWmu_gFbP"
      },
      "execution_count": 17,
      "outputs": []
    },
    {
      "cell_type": "code",
      "source": [
        "nltk.download('wordnet')\n",
        "df_nlp1[\"facts_clean\"] = df_nlp1[\"facts\"].apply(lambda x: utils_preprocess_text(x, flg_stemm=False, flg_lemm=True, lst_stopwords=lst_stopwords))"
      ],
      "metadata": {
        "execution": {
          "iopub.status.busy": "2023-05-16T15:29:45.448877Z",
          "iopub.execute_input": "2023-05-16T15:29:45.449083Z",
          "iopub.status.idle": "2023-05-16T15:29:50.708095Z",
          "shell.execute_reply.started": "2023-05-16T15:29:45.449057Z",
          "shell.execute_reply": "2023-05-16T15:29:50.707362Z"
        },
        "trusted": true,
        "id": "GDvUbFBygFbQ",
        "colab": {
          "base_uri": "https://localhost:8080/"
        },
        "outputId": "2d3146e3-5ca7-44d0-fc2a-3a7fc01cf1f5"
      },
      "execution_count": 18,
      "outputs": [
        {
          "output_type": "stream",
          "name": "stderr",
          "text": [
            "[nltk_data] Downloading package wordnet to /root/nltk_data...\n"
          ]
        }
      ]
    },
    {
      "cell_type": "code",
      "source": [
        "df_nlp1"
      ],
      "metadata": {
        "execution": {
          "iopub.status.busy": "2023-05-16T15:29:50.709287Z",
          "iopub.execute_input": "2023-05-16T15:29:50.709638Z",
          "iopub.status.idle": "2023-05-16T15:29:50.724950Z",
          "shell.execute_reply.started": "2023-05-16T15:29:50.709600Z",
          "shell.execute_reply": "2023-05-16T15:29:50.724251Z"
        },
        "trusted": true,
        "id": "0dSFRNU9gFbQ",
        "colab": {
          "base_uri": "https://localhost:8080/",
          "height": 424
        },
        "outputId": "54c9c51d-52bf-4157-ba92-fc7065fb5127"
      },
      "execution_count": 19,
      "outputs": [
        {
          "output_type": "execute_result",
          "data": {
            "text/plain": [
              "                                                  facts  \\\n",
              "0     Joan Stanley had three children with Peter Sta...   \n",
              "1     John Giglio was convicted of passing forged mo...   \n",
              "2     The Idaho Probate Code specified that \"males m...   \n",
              "3     Miller, after conducting a mass mailing campai...   \n",
              "4     Ernest E. Mandel was a Belgian professional jo...   \n",
              "...                                                 ...   \n",
              "3093  For over a century after the Alaska Purchase i...   \n",
              "3094  Refugio Palomar-Santiago, a Mexican national, ...   \n",
              "3095  Tarahrick Terry pleaded guilty to one count of...   \n",
              "3096  Joshua James Cooley was parked in his pickup t...   \n",
              "3097  The Natural Gas Act (NGA), 15 U.S.C. §§ 717–71...   \n",
              "\n",
              "                                            facts_clean  \n",
              "0     joan stanley three child peter stanley stanley...  \n",
              "1     john giglio convicted passing forged money ord...  \n",
              "2     idaho probate code specified male must preferr...  \n",
              "3     miller conducting mass mailing campaign advert...  \n",
              "4     ernest e mandel belgian professional journalis...  \n",
              "...                                                 ...  \n",
              "3093  century alaska purchase 1867 federal governmen...  \n",
              "3094  refugio palomarsantiago mexican national grant...  \n",
              "3095  tarahrick terry pleaded guilty one count posse...  \n",
              "3096  joshua james cooley parked pickup truck side r...  \n",
              "3097  natural gas act nga 15 usc 717717z permit priv...  \n",
              "\n",
              "[3098 rows x 2 columns]"
            ],
            "text/html": [
              "\n",
              "  <div id=\"df-c6e05dd6-d564-42ff-bf7d-8374f65c05df\">\n",
              "    <div class=\"colab-df-container\">\n",
              "      <div>\n",
              "<style scoped>\n",
              "    .dataframe tbody tr th:only-of-type {\n",
              "        vertical-align: middle;\n",
              "    }\n",
              "\n",
              "    .dataframe tbody tr th {\n",
              "        vertical-align: top;\n",
              "    }\n",
              "\n",
              "    .dataframe thead th {\n",
              "        text-align: right;\n",
              "    }\n",
              "</style>\n",
              "<table border=\"1\" class=\"dataframe\">\n",
              "  <thead>\n",
              "    <tr style=\"text-align: right;\">\n",
              "      <th></th>\n",
              "      <th>facts</th>\n",
              "      <th>facts_clean</th>\n",
              "    </tr>\n",
              "  </thead>\n",
              "  <tbody>\n",
              "    <tr>\n",
              "      <th>0</th>\n",
              "      <td>Joan Stanley had three children with Peter Sta...</td>\n",
              "      <td>joan stanley three child peter stanley stanley...</td>\n",
              "    </tr>\n",
              "    <tr>\n",
              "      <th>1</th>\n",
              "      <td>John Giglio was convicted of passing forged mo...</td>\n",
              "      <td>john giglio convicted passing forged money ord...</td>\n",
              "    </tr>\n",
              "    <tr>\n",
              "      <th>2</th>\n",
              "      <td>The Idaho Probate Code specified that \"males m...</td>\n",
              "      <td>idaho probate code specified male must preferr...</td>\n",
              "    </tr>\n",
              "    <tr>\n",
              "      <th>3</th>\n",
              "      <td>Miller, after conducting a mass mailing campai...</td>\n",
              "      <td>miller conducting mass mailing campaign advert...</td>\n",
              "    </tr>\n",
              "    <tr>\n",
              "      <th>4</th>\n",
              "      <td>Ernest E. Mandel was a Belgian professional jo...</td>\n",
              "      <td>ernest e mandel belgian professional journalis...</td>\n",
              "    </tr>\n",
              "    <tr>\n",
              "      <th>...</th>\n",
              "      <td>...</td>\n",
              "      <td>...</td>\n",
              "    </tr>\n",
              "    <tr>\n",
              "      <th>3093</th>\n",
              "      <td>For over a century after the Alaska Purchase i...</td>\n",
              "      <td>century alaska purchase 1867 federal governmen...</td>\n",
              "    </tr>\n",
              "    <tr>\n",
              "      <th>3094</th>\n",
              "      <td>Refugio Palomar-Santiago, a Mexican national, ...</td>\n",
              "      <td>refugio palomarsantiago mexican national grant...</td>\n",
              "    </tr>\n",
              "    <tr>\n",
              "      <th>3095</th>\n",
              "      <td>Tarahrick Terry pleaded guilty to one count of...</td>\n",
              "      <td>tarahrick terry pleaded guilty one count posse...</td>\n",
              "    </tr>\n",
              "    <tr>\n",
              "      <th>3096</th>\n",
              "      <td>Joshua James Cooley was parked in his pickup t...</td>\n",
              "      <td>joshua james cooley parked pickup truck side r...</td>\n",
              "    </tr>\n",
              "    <tr>\n",
              "      <th>3097</th>\n",
              "      <td>The Natural Gas Act (NGA), 15 U.S.C. §§ 717–71...</td>\n",
              "      <td>natural gas act nga 15 usc 717717z permit priv...</td>\n",
              "    </tr>\n",
              "  </tbody>\n",
              "</table>\n",
              "<p>3098 rows × 2 columns</p>\n",
              "</div>\n",
              "      <button class=\"colab-df-convert\" onclick=\"convertToInteractive('df-c6e05dd6-d564-42ff-bf7d-8374f65c05df')\"\n",
              "              title=\"Convert this dataframe to an interactive table.\"\n",
              "              style=\"display:none;\">\n",
              "        \n",
              "  <svg xmlns=\"http://www.w3.org/2000/svg\" height=\"24px\"viewBox=\"0 0 24 24\"\n",
              "       width=\"24px\">\n",
              "    <path d=\"M0 0h24v24H0V0z\" fill=\"none\"/>\n",
              "    <path d=\"M18.56 5.44l.94 2.06.94-2.06 2.06-.94-2.06-.94-.94-2.06-.94 2.06-2.06.94zm-11 1L8.5 8.5l.94-2.06 2.06-.94-2.06-.94L8.5 2.5l-.94 2.06-2.06.94zm10 10l.94 2.06.94-2.06 2.06-.94-2.06-.94-.94-2.06-.94 2.06-2.06.94z\"/><path d=\"M17.41 7.96l-1.37-1.37c-.4-.4-.92-.59-1.43-.59-.52 0-1.04.2-1.43.59L10.3 9.45l-7.72 7.72c-.78.78-.78 2.05 0 2.83L4 21.41c.39.39.9.59 1.41.59.51 0 1.02-.2 1.41-.59l7.78-7.78 2.81-2.81c.8-.78.8-2.07 0-2.86zM5.41 20L4 18.59l7.72-7.72 1.47 1.35L5.41 20z\"/>\n",
              "  </svg>\n",
              "      </button>\n",
              "      \n",
              "  <style>\n",
              "    .colab-df-container {\n",
              "      display:flex;\n",
              "      flex-wrap:wrap;\n",
              "      gap: 12px;\n",
              "    }\n",
              "\n",
              "    .colab-df-convert {\n",
              "      background-color: #E8F0FE;\n",
              "      border: none;\n",
              "      border-radius: 50%;\n",
              "      cursor: pointer;\n",
              "      display: none;\n",
              "      fill: #1967D2;\n",
              "      height: 32px;\n",
              "      padding: 0 0 0 0;\n",
              "      width: 32px;\n",
              "    }\n",
              "\n",
              "    .colab-df-convert:hover {\n",
              "      background-color: #E2EBFA;\n",
              "      box-shadow: 0px 1px 2px rgba(60, 64, 67, 0.3), 0px 1px 3px 1px rgba(60, 64, 67, 0.15);\n",
              "      fill: #174EA6;\n",
              "    }\n",
              "\n",
              "    [theme=dark] .colab-df-convert {\n",
              "      background-color: #3B4455;\n",
              "      fill: #D2E3FC;\n",
              "    }\n",
              "\n",
              "    [theme=dark] .colab-df-convert:hover {\n",
              "      background-color: #434B5C;\n",
              "      box-shadow: 0px 1px 3px 1px rgba(0, 0, 0, 0.15);\n",
              "      filter: drop-shadow(0px 1px 2px rgba(0, 0, 0, 0.3));\n",
              "      fill: #FFFFFF;\n",
              "    }\n",
              "  </style>\n",
              "\n",
              "      <script>\n",
              "        const buttonEl =\n",
              "          document.querySelector('#df-c6e05dd6-d564-42ff-bf7d-8374f65c05df button.colab-df-convert');\n",
              "        buttonEl.style.display =\n",
              "          google.colab.kernel.accessAllowed ? 'block' : 'none';\n",
              "\n",
              "        async function convertToInteractive(key) {\n",
              "          const element = document.querySelector('#df-c6e05dd6-d564-42ff-bf7d-8374f65c05df');\n",
              "          const dataTable =\n",
              "            await google.colab.kernel.invokeFunction('convertToInteractive',\n",
              "                                                     [key], {});\n",
              "          if (!dataTable) return;\n",
              "\n",
              "          const docLinkHtml = 'Like what you see? Visit the ' +\n",
              "            '<a target=\"_blank\" href=https://colab.research.google.com/notebooks/data_table.ipynb>data table notebook</a>'\n",
              "            + ' to learn more about interactive tables.';\n",
              "          element.innerHTML = '';\n",
              "          dataTable['output_type'] = 'display_data';\n",
              "          await google.colab.output.renderOutput(dataTable, element);\n",
              "          const docLink = document.createElement('div');\n",
              "          docLink.innerHTML = docLinkHtml;\n",
              "          element.appendChild(docLink);\n",
              "        }\n",
              "      </script>\n",
              "    </div>\n",
              "  </div>\n",
              "  "
            ]
          },
          "metadata": {},
          "execution_count": 19
        }
      ]
    },
    {
      "cell_type": "markdown",
      "source": [
        "# 6. Exploratory Data Analysis"
      ],
      "metadata": {
        "id": "InuqeP0TgFbQ"
      }
    },
    {
      "cell_type": "code",
      "source": [
        "df_nlp2 = pd.concat([df_nlp1,df_target1['first_party_winner']],axis=1, join='inner')"
      ],
      "metadata": {
        "execution": {
          "iopub.status.busy": "2023-05-16T15:29:50.726314Z",
          "iopub.execute_input": "2023-05-16T15:29:50.727213Z",
          "iopub.status.idle": "2023-05-16T15:29:50.736555Z",
          "shell.execute_reply.started": "2023-05-16T15:29:50.727174Z",
          "shell.execute_reply": "2023-05-16T15:29:50.735747Z"
        },
        "trusted": true,
        "id": "_N2Sx5pqgFbQ"
      },
      "execution_count": 20,
      "outputs": []
    },
    {
      "cell_type": "code",
      "source": [
        "df_nlp2[\"first_party_winner\"].value_counts()"
      ],
      "metadata": {
        "execution": {
          "iopub.status.busy": "2023-05-16T15:29:50.737688Z",
          "iopub.execute_input": "2023-05-16T15:29:50.738160Z",
          "iopub.status.idle": "2023-05-16T15:29:50.751721Z",
          "shell.execute_reply.started": "2023-05-16T15:29:50.738121Z",
          "shell.execute_reply": "2023-05-16T15:29:50.750821Z"
        },
        "trusted": true,
        "id": "o_H_oAPTgFbQ",
        "colab": {
          "base_uri": "https://localhost:8080/"
        },
        "outputId": "7b74e5fc-4156-4ff1-85ea-9d67669b52b8"
      },
      "execution_count": 21,
      "outputs": [
        {
          "output_type": "execute_result",
          "data": {
            "text/plain": [
              "1    2067\n",
              "0    1031\n",
              "Name: first_party_winner, dtype: int64"
            ]
          },
          "metadata": {},
          "execution_count": 21
        }
      ]
    },
    {
      "cell_type": "code",
      "source": [
        "import matplotlib.pyplot as plt\n",
        "from matplotlib.pyplot import figure"
      ],
      "metadata": {
        "execution": {
          "iopub.status.busy": "2023-05-16T15:29:50.753123Z",
          "iopub.execute_input": "2023-05-16T15:29:50.753604Z",
          "iopub.status.idle": "2023-05-16T15:29:50.760535Z",
          "shell.execute_reply.started": "2023-05-16T15:29:50.753566Z",
          "shell.execute_reply": "2023-05-16T15:29:50.759791Z"
        },
        "trusted": true,
        "id": "WuqsvazPgFbQ"
      },
      "execution_count": 22,
      "outputs": []
    },
    {
      "cell_type": "code",
      "source": [
        "y = 1\n",
        "corpus = df_nlp2[df_nlp2[\"first_party_winner\"]== y][\"facts_clean\"]\n",
        "lst_tokens = nltk.tokenize.word_tokenize(corpus.str.cat(sep=\" \"))\n",
        "fig, ax = plt.subplots(nrows=2, ncols=1)\n",
        "fig.suptitle(\"Most frequent words\", fontsize=15)\n",
        "#figure(figsize=(30, 24))\n",
        "## unigrams\n",
        "dic_words_freq = nltk.FreqDist(lst_tokens)\n",
        "dtf_uni = pd.DataFrame(dic_words_freq.most_common(), \n",
        "                       columns=[\"Word\",\"Freq\"])\n",
        "dtf_uni.set_index(\"Word\").iloc[:10,:].sort_values(by=\"Freq\").plot(\n",
        "                  kind=\"barh\", title=\"Unigrams\", ax=ax[0], \n",
        "                  legend=False).grid(axis='x')\n",
        "ax[0].set(ylabel=None)\n",
        "    \n",
        "## bigrams\n",
        "dic_words_freq = nltk.FreqDist(nltk.ngrams(lst_tokens, 2))\n",
        "dtf_bi = pd.DataFrame(dic_words_freq.most_common(), \n",
        "                      columns=[\"Word\",\"Freq\"])\n",
        "dtf_bi[\"Word\"] = dtf_bi[\"Word\"].apply(lambda x: \" \".join(\n",
        "                   string for string in x) )\n",
        "dtf_bi.set_index(\"Word\").iloc[:10,:].sort_values(by=\"Freq\").plot(\n",
        "                  kind=\"barh\", title=\"Bigrams\", ax=ax[1],\n",
        "                  legend=False).grid(axis='x')\n",
        "ax[1].set(ylabel=None)\n",
        "plt.show()"
      ],
      "metadata": {
        "execution": {
          "iopub.status.busy": "2023-05-16T15:29:50.761762Z",
          "iopub.execute_input": "2023-05-16T15:29:50.762085Z",
          "iopub.status.idle": "2023-05-16T15:29:53.960367Z",
          "shell.execute_reply.started": "2023-05-16T15:29:50.762049Z",
          "shell.execute_reply": "2023-05-16T15:29:53.959674Z"
        },
        "trusted": true,
        "id": "BuMT7OPEgFbQ",
        "colab": {
          "base_uri": "https://localhost:8080/",
          "height": 478
        },
        "outputId": "18380eff-813c-400c-93b1-fa961941e10f"
      },
      "execution_count": 23,
      "outputs": [
        {
          "output_type": "display_data",
          "data": {
            "text/plain": [
              "<Figure size 640x480 with 2 Axes>"
            ],
            "image/png": "[encoded data removed]"
          },
          "metadata": {}
        }
      ]
    },
    {
      "cell_type": "code",
      "source": [
        "y = 0\n",
        "corpus = df_nlp2[df_nlp2[\"first_party_winner\"]== y][\"facts_clean\"]\n",
        "lst_tokens = nltk.tokenize.word_tokenize(corpus.str.cat(sep=\" \"))\n",
        "fig, ax = plt.subplots(nrows=2, ncols=1)\n",
        "fig.suptitle(\"Most frequent words\", fontsize=15)\n",
        "#figure(figsize=(30, 24))\n",
        "## unigrams\n",
        "dic_words_freq = nltk.FreqDist(lst_tokens)\n",
        "dtf_uni = pd.DataFrame(dic_words_freq.most_common(), \n",
        "                       columns=[\"Word\",\"Freq\"])\n",
        "dtf_uni.set_index(\"Word\").iloc[:10,:].sort_values(by=\"Freq\").plot(\n",
        "                  kind=\"barh\", title=\"Unigrams\", ax=ax[0], \n",
        "                  legend=False).grid(axis='x')\n",
        "ax[0].set(ylabel=None)\n",
        "    \n",
        "## bigrams\n",
        "dic_words_freq = nltk.FreqDist(nltk.ngrams(lst_tokens, 2))\n",
        "dtf_bi = pd.DataFrame(dic_words_freq.most_common(), \n",
        "                      columns=[\"Word\",\"Freq\"])\n",
        "dtf_bi[\"Word\"] = dtf_bi[\"Word\"].apply(lambda x: \" \".join(\n",
        "                   string for string in x) )\n",
        "dtf_bi.set_index(\"Word\").iloc[:10,:].sort_values(by=\"Freq\").plot(\n",
        "                  kind=\"barh\", title=\"Bigrams\", ax=ax[1],\n",
        "                  legend=False).grid(axis='x')\n",
        "ax[1].set(ylabel=None)\n",
        "plt.show()"
      ],
      "metadata": {
        "execution": {
          "iopub.status.busy": "2023-05-16T15:29:53.961762Z",
          "iopub.execute_input": "2023-05-16T15:29:53.962189Z",
          "iopub.status.idle": "2023-05-16T15:29:55.675338Z",
          "shell.execute_reply.started": "2023-05-16T15:29:53.962151Z",
          "shell.execute_reply": "2023-05-16T15:29:55.674650Z"
        },
        "trusted": true,
        "id": "KolFwQv0gFbR",
        "colab": {
          "base_uri": "https://localhost:8080/",
          "height": 478
        },
        "outputId": "1b9d20ea-44f4-4d5b-8ad3-53d60dfd29ba"
      },
      "execution_count": 24,
      "outputs": [
        {
          "output_type": "display_data",
          "data": {
            "text/plain": [
              "<Figure size 640x480 with 2 Axes>"
            ],
            "image/png": "[encoded data removed]"
          },
          "metadata": {}
        }
      ]
    },
    {
      "cell_type": "code",
      "source": [
        "import wordcloud"
      ],
      "metadata": {
        "execution": {
          "iopub.status.busy": "2023-05-16T15:29:55.676841Z",
          "iopub.execute_input": "2023-05-16T15:29:55.677121Z",
          "iopub.status.idle": "2023-05-16T15:29:55.718368Z",
          "shell.execute_reply.started": "2023-05-16T15:29:55.677083Z",
          "shell.execute_reply": "2023-05-16T15:29:55.717598Z"
        },
        "trusted": true,
        "id": "p3wKCIOugFbR"
      },
      "execution_count": 25,
      "outputs": []
    },
    {
      "cell_type": "code",
      "source": [
        "wc = wordcloud.WordCloud(background_color='black', max_words=100, \n",
        "                         max_font_size=35)\n",
        "wc = wc.generate(str(corpus))\n",
        "fig = plt.figure(num=1)\n",
        "plt.axis('off')\n",
        "plt.imshow(wc, cmap=None)\n",
        "plt.show()"
      ],
      "metadata": {
        "execution": {
          "iopub.status.busy": "2023-05-16T15:29:55.719569Z",
          "iopub.execute_input": "2023-05-16T15:29:55.720376Z",
          "iopub.status.idle": "2023-05-16T15:29:56.047335Z",
          "shell.execute_reply.started": "2023-05-16T15:29:55.720319Z",
          "shell.execute_reply": "2023-05-16T15:29:56.046321Z"
        },
        "trusted": true,
        "id": "L-yyN9ewgFbR",
        "colab": {
          "base_uri": "https://localhost:8080/",
          "height": 285
        },
        "outputId": "d20a7df8-bd1d-4058-aafc-edc971be5253"
      },
      "execution_count": 26,
      "outputs": [
        {
          "output_type": "display_data",
          "data": {
            "text/plain": [
              "<Figure size 640x480 with 1 Axes>"
            ],
            "image/png": "[encoded data removed]"
          },
          "metadata": {}
        }
      ]
    },
    {
      "cell_type": "code",
      "source": [
        "import gensim.downloader as gensim_api\n",
        "import gensim\n",
        "import seaborn as sns"
      ],
      "metadata": {
        "execution": {
          "iopub.status.busy": "2023-05-16T15:29:56.049501Z",
          "iopub.execute_input": "2023-05-16T15:29:56.056259Z",
          "iopub.status.idle": "2023-05-16T15:29:56.566513Z",
          "shell.execute_reply.started": "2023-05-16T15:29:56.056200Z",
          "shell.execute_reply": "2023-05-16T15:29:56.565734Z"
        },
        "trusted": true,
        "id": "UxwaioKbgFbR"
      },
      "execution_count": 27,
      "outputs": []
    },
    {
      "cell_type": "code",
      "source": [
        "y = 1\n",
        "corpus = df_nlp2[df_nlp2[\"first_party_winner\"]==y][\"facts_clean\"]\n",
        "## pre-process corpus\n",
        "lst_corpus = []\n",
        "for string in corpus:\n",
        "    lst_words = string.split()\n",
        "    lst_grams = [\" \".join(lst_words[i:i + 2]) for i in range(0, \n",
        "                     len(lst_words), 2)]\n",
        "    lst_corpus.append(lst_grams)## map words to an id\n",
        "id2word = gensim.corpora.Dictionary(lst_corpus)## create dictionary word:freq\n",
        "dic_corpus = [id2word.doc2bow(word) for word in lst_corpus] ## train LDA\n",
        "lda_model = gensim.models.ldamodel.LdaModel(corpus=dic_corpus, id2word=id2word, num_topics=7, random_state=123, update_every=1, chunksize=100, passes=10, alpha='auto', per_word_topics=True)\n",
        "   \n",
        "## output\n",
        "lst_dics = []\n",
        "for i in range(0,3):\n",
        "    lst_tuples = lda_model.get_topic_terms(i)\n",
        "    for tupla in lst_tuples:\n",
        "        lst_dics.append({\"topic\":i, \"id\":tupla[0], \n",
        "                         \"word\":id2word[tupla[0]], \n",
        "                         \"weight\":tupla[1]})\n",
        "dtf_topics = pd.DataFrame(lst_dics, \n",
        "                         columns=['topic','id','word','weight'])\n",
        "\n",
        "## plot\n",
        "fig, ax = plt.subplots()\n",
        "sns.barplot(y=\"word\", x=\"weight\", hue=\"topic\", data=dtf_topics, dodge=False, ax=ax).set_title('Main Topics')\n",
        "ax.set(ylabel=\"\", xlabel=\"Word Importance\")\n",
        "plt.show()"
      ],
      "metadata": {
        "execution": {
          "iopub.status.busy": "2023-05-16T15:29:56.567986Z",
          "iopub.execute_input": "2023-05-16T15:29:56.568287Z",
          "iopub.status.idle": "2023-05-16T15:30:19.752054Z",
          "shell.execute_reply.started": "2023-05-16T15:29:56.568247Z",
          "shell.execute_reply": "2023-05-16T15:30:19.751375Z"
        },
        "trusted": true,
        "id": "LXleFZtHgFbR",
        "colab": {
          "base_uri": "https://localhost:8080/",
          "height": 472
        },
        "outputId": "be567615-8341-4336-dee9-96f19dcb794f"
      },
      "execution_count": 28,
      "outputs": [
        {
          "output_type": "display_data",
          "data": {
            "text/plain": [
              "<Figure size 640x480 with 1 Axes>"
            ],
            "image/png": "[encoded data removed]"
          },
          "metadata": {}
        }
      ]
    },
    {
      "cell_type": "code",
      "source": [
        "y = 0\n",
        "corpus = df_nlp2[df_nlp2[\"first_party_winner\"]==y][\"facts_clean\"]\n",
        "## pre-process corpus\n",
        "lst_corpus = []\n",
        "for string in corpus:\n",
        "    lst_words = string.split()\n",
        "    lst_grams = [\" \".join(lst_words[i:i + 2]) for i in range(0, \n",
        "                     len(lst_words), 2)]\n",
        "    lst_corpus.append(lst_grams)## map words to an id\n",
        "id2word = gensim.corpora.Dictionary(lst_corpus)## create dictionary word:freq\n",
        "dic_corpus = [id2word.doc2bow(word) for word in lst_corpus] ## train LDA\n",
        "lda_model = gensim.models.ldamodel.LdaModel(corpus=dic_corpus, id2word=id2word, num_topics=7, random_state=123, update_every=1, chunksize=100, passes=10, alpha='auto', per_word_topics=True)\n",
        "   \n",
        "## output\n",
        "lst_dics = []\n",
        "for i in range(0,3):\n",
        "    lst_tuples = lda_model.get_topic_terms(i)\n",
        "    for tupla in lst_tuples:\n",
        "        lst_dics.append({\"topic\":i, \"id\":tupla[0], \n",
        "                         \"word\":id2word[tupla[0]], \n",
        "                         \"weight\":tupla[1]})\n",
        "dtf_topics = pd.DataFrame(lst_dics, \n",
        "                         columns=['topic','id','word','weight'])\n",
        "\n",
        "## plot\n",
        "fig, ax = plt.subplots()\n",
        "sns.barplot(y=\"word\", x=\"weight\", hue=\"topic\", data=dtf_topics, dodge=False, ax=ax).set_title('Main Topics')\n",
        "ax.set(ylabel=\"\", xlabel=\"Word Importance\")\n",
        "plt.show()"
      ],
      "metadata": {
        "execution": {
          "iopub.status.busy": "2023-05-16T15:30:19.754093Z",
          "iopub.execute_input": "2023-05-16T15:30:19.754364Z",
          "iopub.status.idle": "2023-05-16T15:30:28.706838Z",
          "shell.execute_reply.started": "2023-05-16T15:30:19.754311Z",
          "shell.execute_reply": "2023-05-16T15:30:28.706151Z"
        },
        "trusted": true,
        "id": "RwuKvEzrgFbR",
        "colab": {
          "base_uri": "https://localhost:8080/",
          "height": 472
        },
        "outputId": "087889a5-7e5a-49dc-b236-e21b5652967c"
      },
      "execution_count": 29,
      "outputs": [
        {
          "output_type": "display_data",
          "data": {
            "text/plain": [
              "<Figure size 640x480 with 1 Axes>"
            ],
            "image/png": "[encoded data removed]"
          },
          "metadata": {}
        }
      ]
    },
    {
      "cell_type": "markdown",
      "source": [
        "# 7. Introducing Count Vectorizer to derive features from textual data."
      ],
      "metadata": {
        "id": "b7jWJG3xgFbS"
      }
    },
    {
      "cell_type": "code",
      "source": [
        "from sklearn.pipeline import Pipeline\n",
        "from sklearn.feature_extraction.text import CountVectorizer"
      ],
      "metadata": {
        "execution": {
          "iopub.status.busy": "2023-05-16T15:30:28.708082Z",
          "iopub.execute_input": "2023-05-16T15:30:28.710522Z",
          "iopub.status.idle": "2023-05-16T15:30:28.716307Z",
          "shell.execute_reply.started": "2023-05-16T15:30:28.710482Z",
          "shell.execute_reply": "2023-05-16T15:30:28.715635Z"
        },
        "trusted": true,
        "id": "BrqEGveFgFbS"
      },
      "execution_count": 30,
      "outputs": []
    },
    {
      "cell_type": "code",
      "source": [
        "vectorizer = CountVectorizer()"
      ],
      "metadata": {
        "execution": {
          "iopub.status.busy": "2023-05-16T15:30:28.717869Z",
          "iopub.execute_input": "2023-05-16T15:30:28.718127Z",
          "iopub.status.idle": "2023-05-16T15:30:28.725375Z",
          "shell.execute_reply.started": "2023-05-16T15:30:28.718092Z",
          "shell.execute_reply": "2023-05-16T15:30:28.724618Z"
        },
        "trusted": true,
        "id": "EM9qJyrfgFbT"
      },
      "execution_count": 31,
      "outputs": []
    },
    {
      "cell_type": "code",
      "source": [
        "df_nlp2 = pd.concat([df_nlp1,df_target1['first_party_winner']],axis=1, join='inner')"
      ],
      "metadata": {
        "execution": {
          "iopub.status.busy": "2023-05-16T15:30:28.726954Z",
          "iopub.execute_input": "2023-05-16T15:30:28.727237Z",
          "iopub.status.idle": "2023-05-16T15:30:28.735639Z",
          "shell.execute_reply.started": "2023-05-16T15:30:28.727198Z",
          "shell.execute_reply": "2023-05-16T15:30:28.734800Z"
        },
        "trusted": true,
        "id": "XdCCTgwOgFbT"
      },
      "execution_count": 32,
      "outputs": []
    },
    {
      "cell_type": "code",
      "source": [
        "xfeatures = df_nlp2['facts_clean']\n",
        "ylabel = df_nlp2['first_party_winner']"
      ],
      "metadata": {
        "execution": {
          "iopub.status.busy": "2023-05-16T15:30:28.737281Z",
          "iopub.execute_input": "2023-05-16T15:30:28.737607Z",
          "iopub.status.idle": "2023-05-16T15:30:28.745663Z",
          "shell.execute_reply.started": "2023-05-16T15:30:28.737572Z",
          "shell.execute_reply": "2023-05-16T15:30:28.744924Z"
        },
        "trusted": true,
        "id": "FJvfpl6zgFbU"
      },
      "execution_count": 33,
      "outputs": []
    },
    {
      "cell_type": "markdown",
      "source": [
        "# 8. Using sklearn train_test_split and Pipeline to fit and score the model on Logistic Regression, RandomForest and K-NearestNeighbors on the newly engineered features"
      ],
      "metadata": {
        "id": "H8XQz2TLgFbU"
      }
    },
    {
      "cell_type": "code",
      "source": [
        "X_train, X_test, y_train, y_test = train_test_split(xfeatures,ylabel, test_size=0.25)"
      ],
      "metadata": {
        "execution": {
          "iopub.status.busy": "2023-05-16T15:30:28.746822Z",
          "iopub.execute_input": "2023-05-16T15:30:28.747363Z",
          "iopub.status.idle": "2023-05-16T15:30:28.756598Z",
          "shell.execute_reply.started": "2023-05-16T15:30:28.747303Z",
          "shell.execute_reply": "2023-05-16T15:30:28.755876Z"
        },
        "trusted": true,
        "id": "Kpl1s1LrgFbU"
      },
      "execution_count": 34,
      "outputs": []
    },
    {
      "cell_type": "code",
      "source": [
        "pipe = Pipeline(steps=[('cv',CountVectorizer()),('lr',LogisticRegression(solver='liblinear'))])"
      ],
      "metadata": {
        "execution": {
          "iopub.status.busy": "2023-05-16T15:30:28.757922Z",
          "iopub.execute_input": "2023-05-16T15:30:28.758192Z",
          "iopub.status.idle": "2023-05-16T15:30:28.767523Z",
          "shell.execute_reply.started": "2023-05-16T15:30:28.758158Z",
          "shell.execute_reply": "2023-05-16T15:30:28.766814Z"
        },
        "trusted": true,
        "id": "AiFvAEL3gFbU"
      },
      "execution_count": 35,
      "outputs": []
    },
    {
      "cell_type": "code",
      "source": [
        "pipe.fit(X_train,y_train)"
      ],
      "metadata": {
        "execution": {
          "iopub.status.busy": "2023-05-16T15:30:28.770506Z",
          "iopub.execute_input": "2023-05-16T15:30:28.770716Z",
          "iopub.status.idle": "2023-05-16T15:30:29.225990Z",
          "shell.execute_reply.started": "2023-05-16T15:30:28.770692Z",
          "shell.execute_reply": "2023-05-16T15:30:29.225277Z"
        },
        "trusted": true,
        "id": "I1vF6b1JgFbV",
        "colab": {
          "base_uri": "https://localhost:8080/",
          "height": 125
        },
        "outputId": "fd22249c-8a72-41a9-82ff-5a7a15817e7d"
      },
      "execution_count": 36,
      "outputs": [
        {
          "output_type": "execute_result",
          "data": {
            "text/plain": [
              "Pipeline(steps=[('cv', CountVectorizer()),\n",
              "                ('lr', LogisticRegression(solver='liblinear'))])"
            ],
            "text/html": [
              "<style>#sk-container-id-1 {color: black;background-color: white;}#sk-container-id-1 pre{padding: 0;}#sk-container-id-1 div.sk-toggleable {background-color: white;}#sk-container-id-1 label.sk-toggleable__label {cursor: pointer;display: block;width: 100%;margin-bottom: 0;padding: 0.3em;box-sizing: border-box;text-align: center;}#sk-container-id-1 label.sk-toggleable__label-arrow:before {content: \"▸\";float: left;margin-right: 0.25em;color: #696969;}#sk-container-id-1 label.sk-toggleable__label-arrow:hover:before {color: black;}#sk-container-id-1 div.sk-estimator:hover label.sk-toggleable__label-arrow:before {color: black;}#sk-container-id-1 div.sk-toggleable__content {max-height: 0;max-width: 0;overflow: hidden;text-align: left;background-color: #f0f8ff;}#sk-container-id-1 div.sk-toggleable__content pre {margin: 0.2em;color: black;border-radius: 0.25em;background-color: #f0f8ff;}#sk-container-id-1 input.sk-toggleable__control:checked~div.sk-toggleable__content {max-height: 200px;max-width: 100%;overflow: auto;}#sk-container-id-1 input.sk-toggleable__control:checked~label.sk-toggleable__label-arrow:before {content: \"▾\";}#sk-container-id-1 div.sk-estimator input.sk-toggleable__control:checked~label.sk-toggleable__label {background-color: #d4ebff;}#sk-container-id-1 div.sk-label input.sk-toggleable__control:checked~label.sk-toggleable__label {background-color: #d4ebff;}#sk-container-id-1 input.sk-hidden--visually {border: 0;clip: rect(1px 1px 1px 1px);clip: rect(1px, 1px, 1px, 1px);height: 1px;margin: -1px;overflow: hidden;padding: 0;position: absolute;width: 1px;}#sk-container-id-1 div.sk-estimator {font-family: monospace;background-color: #f0f8ff;border: 1px dotted black;border-radius: 0.25em;box-sizing: border-box;margin-bottom: 0.5em;}#sk-container-id-1 div.sk-estimator:hover {background-color: #d4ebff;}#sk-container-id-1 div.sk-parallel-item::after {content: \"\";width: 100%;border-bottom: 1px solid gray;flex-grow: 1;}#sk-container-id-1 div.sk-label:hover label.sk-toggleable__label {background-color: #d4ebff;}#sk-container-id-1 div.sk-serial::before {content: \"\";position: absolute;border-left: 1px solid gray;box-sizing: border-box;top: 0;bottom: 0;left: 50%;z-index: 0;}#sk-container-id-1 div.sk-serial {display: flex;flex-direction: column;align-items: center;background-color: white;padding-right: 0.2em;padding-left: 0.2em;position: relative;}#sk-container-id-1 div.sk-item {position: relative;z-index: 1;}#sk-container-id-1 div.sk-parallel {display: flex;align-items: stretch;justify-content: center;background-color: white;position: relative;}#sk-container-id-1 div.sk-item::before, #sk-container-id-1 div.sk-parallel-item::before {content: \"\";position: absolute;border-left: 1px solid gray;box-sizing: border-box;top: 0;bottom: 0;left: 50%;z-index: -1;}#sk-container-id-1 div.sk-parallel-item {display: flex;flex-direction: column;z-index: 1;position: relative;background-color: white;}#sk-container-id-1 div.sk-parallel-item:first-child::after {align-self: flex-end;width: 50%;}#sk-container-id-1 div.sk-parallel-item:last-child::after {align-self: flex-start;width: 50%;}#sk-container-id-1 div.sk-parallel-item:only-child::after {width: 0;}#sk-container-id-1 div.sk-dashed-wrapped {border: 1px dashed gray;margin: 0 0.4em 0.5em 0.4em;box-sizing: border-box;padding-bottom: 0.4em;background-color: white;}#sk-container-id-1 div.sk-label label {font-family: monospace;font-weight: bold;display: inline-block;line-height: 1.2em;}#sk-container-id-1 div.sk-label-container {text-align: center;}#sk-container-id-1 div.sk-container {/* jupyter's `normalize.less` sets `[hidden] { display: none; }` but bootstrap.min.css set `[hidden] { display: none !important; }` so we also need the `!important` here to be able to override the default hidden behavior on the sphinx rendered scikit-learn.org. See: https://github.com/scikit-learn/scikit-learn/issues/21755 */display: inline-block !important;position: relative;}#sk-container-id-1 div.sk-text-repr-fallback {display: none;}</style><div id=\"sk-container-id-1\" class=\"sk-top-container\"><div class=\"sk-text-repr-fallback\"><pre>Pipeline(steps=[(&#x27;cv&#x27;, CountVectorizer()),\n",
              "                (&#x27;lr&#x27;, LogisticRegression(solver=&#x27;liblinear&#x27;))])</pre><b>In a Jupyter environment, please rerun this cell to show the HTML representation or trust the notebook. <br />On GitHub, the HTML representation is unable to render, please try loading this page with nbviewer.org.</b></div><div class=\"sk-container\" hidden><div class=\"sk-item sk-dashed-wrapped\"><div class=\"sk-label-container\"><div class=\"sk-label sk-toggleable\"><input class=\"sk-toggleable__control sk-hidden--visually\" id=\"sk-estimator-id-1\" type=\"checkbox\" ><label for=\"sk-estimator-id-1\" class=\"sk-toggleable__label sk-toggleable__label-arrow\">Pipeline</label><div class=\"sk-toggleable__content\"><pre>Pipeline(steps=[(&#x27;cv&#x27;, CountVectorizer()),\n",
              "                (&#x27;lr&#x27;, LogisticRegression(solver=&#x27;liblinear&#x27;))])</pre></div></div></div><div class=\"sk-serial\"><div class=\"sk-item\"><div class=\"sk-estimator sk-toggleable\"><input class=\"sk-toggleable__control sk-hidden--visually\" id=\"sk-estimator-id-2\" type=\"checkbox\" ><label for=\"sk-estimator-id-2\" class=\"sk-toggleable__label sk-toggleable__label-arrow\">CountVectorizer</label><div class=\"sk-toggleable__content\"><pre>CountVectorizer()</pre></div></div></div><div class=\"sk-item\"><div class=\"sk-estimator sk-toggleable\"><input class=\"sk-toggleable__control sk-hidden--visually\" id=\"sk-estimator-id-3\" type=\"checkbox\" ><label for=\"sk-estimator-id-3\" class=\"sk-toggleable__label sk-toggleable__label-arrow\">LogisticRegression</label><div class=\"sk-toggleable__content\"><pre>LogisticRegression(solver=&#x27;liblinear&#x27;)</pre></div></div></div></div></div></div></div>"
            ]
          },
          "metadata": {},
          "execution_count": 36
        }
      ]
    },
    {
      "cell_type": "code",
      "source": [
        "pipe.score(X_test,y_test)"
      ],
      "metadata": {
        "execution": {
          "iopub.status.busy": "2023-05-16T15:30:29.227311Z",
          "iopub.execute_input": "2023-05-16T15:30:29.228107Z",
          "iopub.status.idle": "2023-05-16T15:30:29.383840Z",
          "shell.execute_reply.started": "2023-05-16T15:30:29.228068Z",
          "shell.execute_reply": "2023-05-16T15:30:29.383028Z"
        },
        "trusted": true,
        "id": "r0_uL5ukgFbV",
        "colab": {
          "base_uri": "https://localhost:8080/"
        },
        "outputId": "0d421b5b-5b54-418a-c74b-3754d3eb2a87"
      },
      "execution_count": 37,
      "outputs": [
        {
          "output_type": "execute_result",
          "data": {
            "text/plain": [
              "0.5948387096774194"
            ]
          },
          "metadata": {},
          "execution_count": 37
        }
      ]
    },
    {
      "cell_type": "code",
      "source": [
        "from sklearn.ensemble import RandomForestClassifier\n",
        "from sklearn.neighbors import KNeighborsClassifier"
      ],
      "metadata": {
        "execution": {
          "iopub.status.busy": "2023-05-16T15:30:29.385070Z",
          "iopub.execute_input": "2023-05-16T15:30:29.385312Z",
          "iopub.status.idle": "2023-05-16T15:30:29.434747Z",
          "shell.execute_reply.started": "2023-05-16T15:30:29.385278Z",
          "shell.execute_reply": "2023-05-16T15:30:29.433786Z"
        },
        "trusted": true,
        "id": "IpUr3ukAgFbV"
      },
      "execution_count": 38,
      "outputs": []
    },
    {
      "cell_type": "code",
      "source": [
        "pipe1= Pipeline(steps=[('cv',CountVectorizer()),('rf',RandomForestClassifier())])"
      ],
      "metadata": {
        "execution": {
          "iopub.status.busy": "2023-05-16T15:30:29.436105Z",
          "iopub.execute_input": "2023-05-16T15:30:29.436474Z",
          "iopub.status.idle": "2023-05-16T15:30:29.441162Z",
          "shell.execute_reply.started": "2023-05-16T15:30:29.436433Z",
          "shell.execute_reply": "2023-05-16T15:30:29.440492Z"
        },
        "trusted": true,
        "id": "Qnpipq2PgFbV"
      },
      "execution_count": 39,
      "outputs": []
    },
    {
      "cell_type": "code",
      "source": [
        "pipe1.fit(X_train,y_train)"
      ],
      "metadata": {
        "execution": {
          "iopub.status.busy": "2023-05-16T15:30:29.442557Z",
          "iopub.execute_input": "2023-05-16T15:30:29.443016Z",
          "iopub.status.idle": "2023-05-16T15:30:31.331035Z",
          "shell.execute_reply.started": "2023-05-16T15:30:29.442966Z",
          "shell.execute_reply": "2023-05-16T15:30:31.330267Z"
        },
        "trusted": true,
        "id": "N_BbbEXEgFbV",
        "colab": {
          "base_uri": "https://localhost:8080/",
          "height": 125
        },
        "outputId": "1cf33fc8-3dae-4aee-d7ff-40f0c0de5e5b"
      },
      "execution_count": 40,
      "outputs": [
        {
          "output_type": "execute_result",
          "data": {
            "text/plain": [
              "Pipeline(steps=[('cv', CountVectorizer()), ('rf', RandomForestClassifier())])"
            ],
            "text/html": [
              "<style>#sk-container-id-2 {color: black;background-color: white;}#sk-container-id-2 pre{padding: 0;}#sk-container-id-2 div.sk-toggleable {background-color: white;}#sk-container-id-2 label.sk-toggleable__label {cursor: pointer;display: block;width: 100%;margin-bottom: 0;padding: 0.3em;box-sizing: border-box;text-align: center;}#sk-container-id-2 label.sk-toggleable__label-arrow:before {content: \"▸\";float: left;margin-right: 0.25em;color: #696969;}#sk-container-id-2 label.sk-toggleable__label-arrow:hover:before {color: black;}#sk-container-id-2 div.sk-estimator:hover label.sk-toggleable__label-arrow:before {color: black;}#sk-container-id-2 div.sk-toggleable__content {max-height: 0;max-width: 0;overflow: hidden;text-align: left;background-color: #f0f8ff;}#sk-container-id-2 div.sk-toggleable__content pre {margin: 0.2em;color: black;border-radius: 0.25em;background-color: #f0f8ff;}#sk-container-id-2 input.sk-toggleable__control:checked~div.sk-toggleable__content {max-height: 200px;max-width: 100%;overflow: auto;}#sk-container-id-2 input.sk-toggleable__control:checked~label.sk-toggleable__label-arrow:before {content: \"▾\";}#sk-container-id-2 div.sk-estimator input.sk-toggleable__control:checked~label.sk-toggleable__label {background-color: #d4ebff;}#sk-container-id-2 div.sk-label input.sk-toggleable__control:checked~label.sk-toggleable__label {background-color: #d4ebff;}#sk-container-id-2 input.sk-hidden--visually {border: 0;clip: rect(1px 1px 1px 1px);clip: rect(1px, 1px, 1px, 1px);height: 1px;margin: -1px;overflow: hidden;padding: 0;position: absolute;width: 1px;}#sk-container-id-2 div.sk-estimator {font-family: monospace;background-color: #f0f8ff;border: 1px dotted black;border-radius: 0.25em;box-sizing: border-box;margin-bottom: 0.5em;}#sk-container-id-2 div.sk-estimator:hover {background-color: #d4ebff;}#sk-container-id-2 div.sk-parallel-item::after {content: \"\";width: 100%;border-bottom: 1px solid gray;flex-grow: 1;}#sk-container-id-2 div.sk-label:hover label.sk-toggleable__label {background-color: #d4ebff;}#sk-container-id-2 div.sk-serial::before {content: \"\";position: absolute;border-left: 1px solid gray;box-sizing: border-box;top: 0;bottom: 0;left: 50%;z-index: 0;}#sk-container-id-2 div.sk-serial {display: flex;flex-direction: column;align-items: center;background-color: white;padding-right: 0.2em;padding-left: 0.2em;position: relative;}#sk-container-id-2 div.sk-item {position: relative;z-index: 1;}#sk-container-id-2 div.sk-parallel {display: flex;align-items: stretch;justify-content: center;background-color: white;position: relative;}#sk-container-id-2 div.sk-item::before, #sk-container-id-2 div.sk-parallel-item::before {content: \"\";position: absolute;border-left: 1px solid gray;box-sizing: border-box;top: 0;bottom: 0;left: 50%;z-index: -1;}#sk-container-id-2 div.sk-parallel-item {display: flex;flex-direction: column;z-index: 1;position: relative;background-color: white;}#sk-container-id-2 div.sk-parallel-item:first-child::after {align-self: flex-end;width: 50%;}#sk-container-id-2 div.sk-parallel-item:last-child::after {align-self: flex-start;width: 50%;}#sk-container-id-2 div.sk-parallel-item:only-child::after {width: 0;}#sk-container-id-2 div.sk-dashed-wrapped {border: 1px dashed gray;margin: 0 0.4em 0.5em 0.4em;box-sizing: border-box;padding-bottom: 0.4em;background-color: white;}#sk-container-id-2 div.sk-label label {font-family: monospace;font-weight: bold;display: inline-block;line-height: 1.2em;}#sk-container-id-2 div.sk-label-container {text-align: center;}#sk-container-id-2 div.sk-container {/* jupyter's `normalize.less` sets `[hidden] { display: none; }` but bootstrap.min.css set `[hidden] { display: none !important; }` so we also need the `!important` here to be able to override the default hidden behavior on the sphinx rendered scikit-learn.org. See: https://github.com/scikit-learn/scikit-learn/issues/21755 */display: inline-block !important;position: relative;}#sk-container-id-2 div.sk-text-repr-fallback {display: none;}</style><div id=\"sk-container-id-2\" class=\"sk-top-container\"><div class=\"sk-text-repr-fallback\"><pre>Pipeline(steps=[(&#x27;cv&#x27;, CountVectorizer()), (&#x27;rf&#x27;, RandomForestClassifier())])</pre><b>In a Jupyter environment, please rerun this cell to show the HTML representation or trust the notebook. <br />On GitHub, the HTML representation is unable to render, please try loading this page with nbviewer.org.</b></div><div class=\"sk-container\" hidden><div class=\"sk-item sk-dashed-wrapped\"><div class=\"sk-label-container\"><div class=\"sk-label sk-toggleable\"><input class=\"sk-toggleable__control sk-hidden--visually\" id=\"sk-estimator-id-4\" type=\"checkbox\" ><label for=\"sk-estimator-id-4\" class=\"sk-toggleable__label sk-toggleable__label-arrow\">Pipeline</label><div class=\"sk-toggleable__content\"><pre>Pipeline(steps=[(&#x27;cv&#x27;, CountVectorizer()), (&#x27;rf&#x27;, RandomForestClassifier())])</pre></div></div></div><div class=\"sk-serial\"><div class=\"sk-item\"><div class=\"sk-estimator sk-toggleable\"><input class=\"sk-toggleable__control sk-hidden--visually\" id=\"sk-estimator-id-5\" type=\"checkbox\" ><label for=\"sk-estimator-id-5\" class=\"sk-toggleable__label sk-toggleable__label-arrow\">CountVectorizer</label><div class=\"sk-toggleable__content\"><pre>CountVectorizer()</pre></div></div></div><div class=\"sk-item\"><div class=\"sk-estimator sk-toggleable\"><input class=\"sk-toggleable__control sk-hidden--visually\" id=\"sk-estimator-id-6\" type=\"checkbox\" ><label for=\"sk-estimator-id-6\" class=\"sk-toggleable__label sk-toggleable__label-arrow\">RandomForestClassifier</label><div class=\"sk-toggleable__content\"><pre>RandomForestClassifier()</pre></div></div></div></div></div></div></div>"
            ]
          },
          "metadata": {},
          "execution_count": 40
        }
      ]
    },
    {
      "cell_type": "code",
      "source": [
        "pipe1.score(X_train,y_train)"
      ],
      "metadata": {
        "execution": {
          "iopub.status.busy": "2023-05-16T15:30:31.337868Z",
          "iopub.execute_input": "2023-05-16T15:30:31.338087Z",
          "iopub.status.idle": "2023-05-16T15:30:31.735997Z",
          "shell.execute_reply.started": "2023-05-16T15:30:31.338060Z",
          "shell.execute_reply": "2023-05-16T15:30:31.735163Z"
        },
        "trusted": true,
        "id": "wMP7d3o4gFbW",
        "colab": {
          "base_uri": "https://localhost:8080/"
        },
        "outputId": "0958f9ba-1b87-4d5a-e84e-c8c59d1f959c"
      },
      "execution_count": 41,
      "outputs": [
        {
          "output_type": "execute_result",
          "data": {
            "text/plain": [
              "1.0"
            ]
          },
          "metadata": {},
          "execution_count": 41
        }
      ]
    },
    {
      "cell_type": "code",
      "source": [
        "pipe1.score(X_test,y_test)"
      ],
      "metadata": {
        "execution": {
          "iopub.status.busy": "2023-05-16T15:30:31.737552Z",
          "iopub.execute_input": "2023-05-16T15:30:31.737831Z",
          "iopub.status.idle": "2023-05-16T15:30:31.886871Z",
          "shell.execute_reply.started": "2023-05-16T15:30:31.737795Z",
          "shell.execute_reply": "2023-05-16T15:30:31.886167Z"
        },
        "trusted": true,
        "id": "GVo9ztpLgFbW",
        "colab": {
          "base_uri": "https://localhost:8080/"
        },
        "outputId": "b01720ef-7fe7-40b7-80b5-3c7d2afcaf0f"
      },
      "execution_count": 42,
      "outputs": [
        {
          "output_type": "execute_result",
          "data": {
            "text/plain": [
              "0.6580645161290323"
            ]
          },
          "metadata": {},
          "execution_count": 42
        }
      ]
    },
    {
      "cell_type": "code",
      "source": [
        "pipe2= Pipeline(steps=[('cv',CountVectorizer()),('rf',KNeighborsClassifier(n_neighbors=3))])"
      ],
      "metadata": {
        "execution": {
          "iopub.status.busy": "2023-05-16T15:30:31.888121Z",
          "iopub.execute_input": "2023-05-16T15:30:31.888866Z",
          "iopub.status.idle": "2023-05-16T15:30:31.893602Z",
          "shell.execute_reply.started": "2023-05-16T15:30:31.888827Z",
          "shell.execute_reply": "2023-05-16T15:30:31.892771Z"
        },
        "trusted": true,
        "id": "3l41Wl2lgFbW"
      },
      "execution_count": 43,
      "outputs": []
    },
    {
      "cell_type": "code",
      "source": [
        "pipe2.fit(X_train,y_train)"
      ],
      "metadata": {
        "execution": {
          "iopub.status.busy": "2023-05-16T15:30:31.895158Z",
          "iopub.execute_input": "2023-05-16T15:30:31.895577Z",
          "iopub.status.idle": "2023-05-16T15:30:32.202037Z",
          "shell.execute_reply.started": "2023-05-16T15:30:31.895540Z",
          "shell.execute_reply": "2023-05-16T15:30:32.201199Z"
        },
        "trusted": true,
        "id": "nHCo9bsQgFbW",
        "colab": {
          "base_uri": "https://localhost:8080/",
          "height": 125
        },
        "outputId": "d1b58217-b4fd-451e-fe13-a8d66449ab73"
      },
      "execution_count": 44,
      "outputs": [
        {
          "output_type": "execute_result",
          "data": {
            "text/plain": [
              "Pipeline(steps=[('cv', CountVectorizer()),\n",
              "                ('rf', KNeighborsClassifier(n_neighbors=3))])"
            ],
            "text/html": [
              "<style>#sk-container-id-3 {color: black;background-color: white;}#sk-container-id-3 pre{padding: 0;}#sk-container-id-3 div.sk-toggleable {background-color: white;}#sk-container-id-3 label.sk-toggleable__label {cursor: pointer;display: block;width: 100%;margin-bottom: 0;padding: 0.3em;box-sizing: border-box;text-align: center;}#sk-container-id-3 label.sk-toggleable__label-arrow:before {content: \"▸\";float: left;margin-right: 0.25em;color: #696969;}#sk-container-id-3 label.sk-toggleable__label-arrow:hover:before {color: black;}#sk-container-id-3 div.sk-estimator:hover label.sk-toggleable__label-arrow:before {color: black;}#sk-container-id-3 div.sk-toggleable__content {max-height: 0;max-width: 0;overflow: hidden;text-align: left;background-color: #f0f8ff;}#sk-container-id-3 div.sk-toggleable__content pre {margin: 0.2em;color: black;border-radius: 0.25em;background-color: #f0f8ff;}#sk-container-id-3 input.sk-toggleable__control:checked~div.sk-toggleable__content {max-height: 200px;max-width: 100%;overflow: auto;}#sk-container-id-3 input.sk-toggleable__control:checked~label.sk-toggleable__label-arrow:before {content: \"▾\";}#sk-container-id-3 div.sk-estimator input.sk-toggleable__control:checked~label.sk-toggleable__label {background-color: #d4ebff;}#sk-container-id-3 div.sk-label input.sk-toggleable__control:checked~label.sk-toggleable__label {background-color: #d4ebff;}#sk-container-id-3 input.sk-hidden--visually {border: 0;clip: rect(1px 1px 1px 1px);clip: rect(1px, 1px, 1px, 1px);height: 1px;margin: -1px;overflow: hidden;padding: 0;position: absolute;width: 1px;}#sk-container-id-3 div.sk-estimator {font-family: monospace;background-color: #f0f8ff;border: 1px dotted black;border-radius: 0.25em;box-sizing: border-box;margin-bottom: 0.5em;}#sk-container-id-3 div.sk-estimator:hover {background-color: #d4ebff;}#sk-container-id-3 div.sk-parallel-item::after {content: \"\";width: 100%;border-bottom: 1px solid gray;flex-grow: 1;}#sk-container-id-3 div.sk-label:hover label.sk-toggleable__label {background-color: #d4ebff;}#sk-container-id-3 div.sk-serial::before {content: \"\";position: absolute;border-left: 1px solid gray;box-sizing: border-box;top: 0;bottom: 0;left: 50%;z-index: 0;}#sk-container-id-3 div.sk-serial {display: flex;flex-direction: column;align-items: center;background-color: white;padding-right: 0.2em;padding-left: 0.2em;position: relative;}#sk-container-id-3 div.sk-item {position: relative;z-index: 1;}#sk-container-id-3 div.sk-parallel {display: flex;align-items: stretch;justify-content: center;background-color: white;position: relative;}#sk-container-id-3 div.sk-item::before, #sk-container-id-3 div.sk-parallel-item::before {content: \"\";position: absolute;border-left: 1px solid gray;box-sizing: border-box;top: 0;bottom: 0;left: 50%;z-index: -1;}#sk-container-id-3 div.sk-parallel-item {display: flex;flex-direction: column;z-index: 1;position: relative;background-color: white;}#sk-container-id-3 div.sk-parallel-item:first-child::after {align-self: flex-end;width: 50%;}#sk-container-id-3 div.sk-parallel-item:last-child::after {align-self: flex-start;width: 50%;}#sk-container-id-3 div.sk-parallel-item:only-child::after {width: 0;}#sk-container-id-3 div.sk-dashed-wrapped {border: 1px dashed gray;margin: 0 0.4em 0.5em 0.4em;box-sizing: border-box;padding-bottom: 0.4em;background-color: white;}#sk-container-id-3 div.sk-label label {font-family: monospace;font-weight: bold;display: inline-block;line-height: 1.2em;}#sk-container-id-3 div.sk-label-container {text-align: center;}#sk-container-id-3 div.sk-container {/* jupyter's `normalize.less` sets `[hidden] { display: none; }` but bootstrap.min.css set `[hidden] { display: none !important; }` so we also need the `!important` here to be able to override the default hidden behavior on the sphinx rendered scikit-learn.org. See: https://github.com/scikit-learn/scikit-learn/issues/21755 */display: inline-block !important;position: relative;}#sk-container-id-3 div.sk-text-repr-fallback {display: none;}</style><div id=\"sk-container-id-3\" class=\"sk-top-container\"><div class=\"sk-text-repr-fallback\"><pre>Pipeline(steps=[(&#x27;cv&#x27;, CountVectorizer()),\n",
              "                (&#x27;rf&#x27;, KNeighborsClassifier(n_neighbors=3))])</pre><b>In a Jupyter environment, please rerun this cell to show the HTML representation or trust the notebook. <br />On GitHub, the HTML representation is unable to render, please try loading this page with nbviewer.org.</b></div><div class=\"sk-container\" hidden><div class=\"sk-item sk-dashed-wrapped\"><div class=\"sk-label-container\"><div class=\"sk-label sk-toggleable\"><input class=\"sk-toggleable__control sk-hidden--visually\" id=\"sk-estimator-id-7\" type=\"checkbox\" ><label for=\"sk-estimator-id-7\" class=\"sk-toggleable__label sk-toggleable__label-arrow\">Pipeline</label><div class=\"sk-toggleable__content\"><pre>Pipeline(steps=[(&#x27;cv&#x27;, CountVectorizer()),\n",
              "                (&#x27;rf&#x27;, KNeighborsClassifier(n_neighbors=3))])</pre></div></div></div><div class=\"sk-serial\"><div class=\"sk-item\"><div class=\"sk-estimator sk-toggleable\"><input class=\"sk-toggleable__control sk-hidden--visually\" id=\"sk-estimator-id-8\" type=\"checkbox\" ><label for=\"sk-estimator-id-8\" class=\"sk-toggleable__label sk-toggleable__label-arrow\">CountVectorizer</label><div class=\"sk-toggleable__content\"><pre>CountVectorizer()</pre></div></div></div><div class=\"sk-item\"><div class=\"sk-estimator sk-toggleable\"><input class=\"sk-toggleable__control sk-hidden--visually\" id=\"sk-estimator-id-9\" type=\"checkbox\" ><label for=\"sk-estimator-id-9\" class=\"sk-toggleable__label sk-toggleable__label-arrow\">KNeighborsClassifier</label><div class=\"sk-toggleable__content\"><pre>KNeighborsClassifier(n_neighbors=3)</pre></div></div></div></div></div></div></div>"
            ]
          },
          "metadata": {},
          "execution_count": 44
        }
      ]
    },
    {
      "cell_type": "code",
      "source": [
        "pipe2.score(X_train,y_train)"
      ],
      "metadata": {
        "execution": {
          "iopub.status.busy": "2023-05-16T15:30:32.203217Z",
          "iopub.execute_input": "2023-05-16T15:30:32.203522Z",
          "iopub.status.idle": "2023-05-16T15:30:32.912426Z",
          "shell.execute_reply.started": "2023-05-16T15:30:32.203472Z",
          "shell.execute_reply": "2023-05-16T15:30:32.911565Z"
        },
        "trusted": true,
        "id": "rgRkEAfBgFbW",
        "colab": {
          "base_uri": "https://localhost:8080/"
        },
        "outputId": "82044fbd-9323-48c3-de9c-ee31c47cae45"
      },
      "execution_count": 45,
      "outputs": [
        {
          "output_type": "execute_result",
          "data": {
            "text/plain": [
              "0.8639690055962118"
            ]
          },
          "metadata": {},
          "execution_count": 45
        }
      ]
    },
    {
      "cell_type": "code",
      "source": [
        "pipe2.score(X_test,y_test)"
      ],
      "metadata": {
        "execution": {
          "iopub.status.busy": "2023-05-16T15:30:32.913770Z",
          "iopub.execute_input": "2023-05-16T15:30:32.914100Z",
          "iopub.status.idle": "2023-05-16T15:30:33.155183Z",
          "shell.execute_reply.started": "2023-05-16T15:30:32.914063Z",
          "shell.execute_reply": "2023-05-16T15:30:33.154489Z"
        },
        "trusted": true,
        "id": "Wj6l83VVgFbW",
        "colab": {
          "base_uri": "https://localhost:8080/"
        },
        "outputId": "f148f845-8722-44e4-8931-95ca8353b300"
      },
      "execution_count": 46,
      "outputs": [
        {
          "output_type": "execute_result",
          "data": {
            "text/plain": [
              "0.6374193548387097"
            ]
          },
          "metadata": {},
          "execution_count": 46
        }
      ]
    },
    {
      "cell_type": "markdown",
      "source": [
        "# 9. Now including the one-hot encoded features within our model."
      ],
      "metadata": {
        "id": "5fevbDEfgFbX"
      }
    },
    {
      "cell_type": "code",
      "source": [
        "df_nl1=pd.concat([df_nlp2,df_cat],axis=1,join='inner')"
      ],
      "metadata": {
        "execution": {
          "iopub.status.busy": "2023-05-16T15:30:33.156544Z",
          "iopub.execute_input": "2023-05-16T15:30:33.156958Z",
          "iopub.status.idle": "2023-05-16T15:30:33.162901Z",
          "shell.execute_reply.started": "2023-05-16T15:30:33.156919Z",
          "shell.execute_reply": "2023-05-16T15:30:33.162149Z"
        },
        "trusted": true,
        "id": "FoDl18mrgFbX"
      },
      "execution_count": 47,
      "outputs": []
    },
    {
      "cell_type": "code",
      "source": [
        "df_nl1"
      ],
      "metadata": {
        "execution": {
          "iopub.status.busy": "2023-05-16T15:30:33.164334Z",
          "iopub.execute_input": "2023-05-16T15:30:33.164715Z",
          "iopub.status.idle": "2023-05-16T15:30:33.186102Z",
          "shell.execute_reply.started": "2023-05-16T15:30:33.164676Z",
          "shell.execute_reply": "2023-05-16T15:30:33.185288Z"
        },
        "trusted": true,
        "id": "2WhuuucKgFbX",
        "colab": {
          "base_uri": "https://localhost:8080/",
          "height": 424
        },
        "outputId": "d5f55283-5dd9-4361-e081-d17c4f65fa60"
      },
      "execution_count": 48,
      "outputs": [
        {
          "output_type": "execute_result",
          "data": {
            "text/plain": [
              "                                                  facts  \\\n",
              "0     Joan Stanley had three children with Peter Sta...   \n",
              "1     John Giglio was convicted of passing forged mo...   \n",
              "2     The Idaho Probate Code specified that \"males m...   \n",
              "3     Miller, after conducting a mass mailing campai...   \n",
              "4     Ernest E. Mandel was a Belgian professional jo...   \n",
              "...                                                 ...   \n",
              "3093  For over a century after the Alaska Purchase i...   \n",
              "3094  Refugio Palomar-Santiago, a Mexican national, ...   \n",
              "3095  Tarahrick Terry pleaded guilty to one count of...   \n",
              "3096  Joshua James Cooley was parked in his pickup t...   \n",
              "3097  The Natural Gas Act (NGA), 15 U.S.C. §§ 717–71...   \n",
              "\n",
              "                                            facts_clean  first_party_winner  \\\n",
              "0     joan stanley three child peter stanley stanley...                   1   \n",
              "1     john giglio convicted passing forged money ord...                   1   \n",
              "2     idaho probate code specified male must preferr...                   1   \n",
              "3     miller conducting mass mailing campaign advert...                   1   \n",
              "4     ernest e mandel belgian professional journalis...                   1   \n",
              "...                                                 ...                 ...   \n",
              "3093  century alaska purchase 1867 federal governmen...                   1   \n",
              "3094  refugio palomarsantiago mexican national grant...                   1   \n",
              "3095  tarahrick terry pleaded guilty one count posse...                   0   \n",
              "3096  joshua james cooley parked pickup truck side r...                   1   \n",
              "3097  natural gas act nga 15 usc 717717z permit priv...                   1   \n",
              "\n",
              "         decision_type        disposition  \n",
              "0     majority opinion  reversed/remanded  \n",
              "1     majority opinion  reversed/remanded  \n",
              "2     majority opinion  reversed/remanded  \n",
              "3     majority opinion   vacated/remanded  \n",
              "4     majority opinion           reversed  \n",
              "...                ...                ...  \n",
              "3093  majority opinion  reversed/remanded  \n",
              "3094  majority opinion  reversed/remanded  \n",
              "3095  majority opinion           affirmed  \n",
              "3096  majority opinion   vacated/remanded  \n",
              "3097  majority opinion  reversed/remanded  \n",
              "\n",
              "[3098 rows x 5 columns]"
            ],
            "text/html": [
              "\n",
              "  <div id=\"df-d43e3ce5-92c9-4aa0-9070-de078e61a560\">\n",
              "    <div class=\"colab-df-container\">\n",
              "      <div>\n",
              "<style scoped>\n",
              "    .dataframe tbody tr th:only-of-type {\n",
              "        vertical-align: middle;\n",
              "    }\n",
              "\n",
              "    .dataframe tbody tr th {\n",
              "        vertical-align: top;\n",
              "    }\n",
              "\n",
              "    .dataframe thead th {\n",
              "        text-align: right;\n",
              "    }\n",
              "</style>\n",
              "<table border=\"1\" class=\"dataframe\">\n",
              "  <thead>\n",
              "    <tr style=\"text-align: right;\">\n",
              "      <th></th>\n",
              "      <th>facts</th>\n",
              "      <th>facts_clean</th>\n",
              "      <th>first_party_winner</th>\n",
              "      <th>decision_type</th>\n",
              "      <th>disposition</th>\n",
              "    </tr>\n",
              "  </thead>\n",
              "  <tbody>\n",
              "    <tr>\n",
              "      <th>0</th>\n",
              "      <td>Joan Stanley had three children with Peter Sta...</td>\n",
              "      <td>joan stanley three child peter stanley stanley...</td>\n",
              "      <td>1</td>\n",
              "      <td>majority opinion</td>\n",
              "      <td>reversed/remanded</td>\n",
              "    </tr>\n",
              "    <tr>\n",
              "      <th>1</th>\n",
              "      <td>John Giglio was convicted of passing forged mo...</td>\n",
              "      <td>john giglio convicted passing forged money ord...</td>\n",
              "      <td>1</td>\n",
              "      <td>majority opinion</td>\n",
              "      <td>reversed/remanded</td>\n",
              "    </tr>\n",
              "    <tr>\n",
              "      <th>2</th>\n",
              "      <td>The Idaho Probate Code specified that \"males m...</td>\n",
              "      <td>idaho probate code specified male must preferr...</td>\n",
              "      <td>1</td>\n",
              "      <td>majority opinion</td>\n",
              "      <td>reversed/remanded</td>\n",
              "    </tr>\n",
              "    <tr>\n",
              "      <th>3</th>\n",
              "      <td>Miller, after conducting a mass mailing campai...</td>\n",
              "      <td>miller conducting mass mailing campaign advert...</td>\n",
              "      <td>1</td>\n",
              "      <td>majority opinion</td>\n",
              "      <td>vacated/remanded</td>\n",
              "    </tr>\n",
              "    <tr>\n",
              "      <th>4</th>\n",
              "      <td>Ernest E. Mandel was a Belgian professional jo...</td>\n",
              "      <td>ernest e mandel belgian professional journalis...</td>\n",
              "      <td>1</td>\n",
              "      <td>majority opinion</td>\n",
              "      <td>reversed</td>\n",
              "    </tr>\n",
              "    <tr>\n",
              "      <th>...</th>\n",
              "      <td>...</td>\n",
              "      <td>...</td>\n",
              "      <td>...</td>\n",
              "      <td>...</td>\n",
              "      <td>...</td>\n",
              "    </tr>\n",
              "    <tr>\n",
              "      <th>3093</th>\n",
              "      <td>For over a century after the Alaska Purchase i...</td>\n",
              "      <td>century alaska purchase 1867 federal governmen...</td>\n",
              "      <td>1</td>\n",
              "      <td>majority opinion</td>\n",
              "      <td>reversed/remanded</td>\n",
              "    </tr>\n",
              "    <tr>\n",
              "      <th>3094</th>\n",
              "      <td>Refugio Palomar-Santiago, a Mexican national, ...</td>\n",
              "      <td>refugio palomarsantiago mexican national grant...</td>\n",
              "      <td>1</td>\n",
              "      <td>majority opinion</td>\n",
              "      <td>reversed/remanded</td>\n",
              "    </tr>\n",
              "    <tr>\n",
              "      <th>3095</th>\n",
              "      <td>Tarahrick Terry pleaded guilty to one count of...</td>\n",
              "      <td>tarahrick terry pleaded guilty one count posse...</td>\n",
              "      <td>0</td>\n",
              "      <td>majority opinion</td>\n",
              "      <td>affirmed</td>\n",
              "    </tr>\n",
              "    <tr>\n",
              "      <th>3096</th>\n",
              "      <td>Joshua James Cooley was parked in his pickup t...</td>\n",
              "      <td>joshua james cooley parked pickup truck side r...</td>\n",
              "      <td>1</td>\n",
              "      <td>majority opinion</td>\n",
              "      <td>vacated/remanded</td>\n",
              "    </tr>\n",
              "    <tr>\n",
              "      <th>3097</th>\n",
              "      <td>The Natural Gas Act (NGA), 15 U.S.C. §§ 717–71...</td>\n",
              "      <td>natural gas act nga 15 usc 717717z permit priv...</td>\n",
              "      <td>1</td>\n",
              "      <td>majority opinion</td>\n",
              "      <td>reversed/remanded</td>\n",
              "    </tr>\n",
              "  </tbody>\n",
              "</table>\n",
              "<p>3098 rows × 5 columns</p>\n",
              "</div>\n",
              "      <button class=\"colab-df-convert\" onclick=\"convertToInteractive('df-d43e3ce5-92c9-4aa0-9070-de078e61a560')\"\n",
              "              title=\"Convert this dataframe to an interactive table.\"\n",
              "              style=\"display:none;\">\n",
              "        \n",
              "  <svg xmlns=\"http://www.w3.org/2000/svg\" height=\"24px\"viewBox=\"0 0 24 24\"\n",
              "       width=\"24px\">\n",
              "    <path d=\"M0 0h24v24H0V0z\" fill=\"none\"/>\n",
              "    <path d=\"M18.56 5.44l.94 2.06.94-2.06 2.06-.94-2.06-.94-.94-2.06-.94 2.06-2.06.94zm-11 1L8.5 8.5l.94-2.06 2.06-.94-2.06-.94L8.5 2.5l-.94 2.06-2.06.94zm10 10l.94 2.06.94-2.06 2.06-.94-2.06-.94-.94-2.06-.94 2.06-2.06.94z\"/><path d=\"M17.41 7.96l-1.37-1.37c-.4-.4-.92-.59-1.43-.59-.52 0-1.04.2-1.43.59L10.3 9.45l-7.72 7.72c-.78.78-.78 2.05 0 2.83L4 21.41c.39.39.9.59 1.41.59.51 0 1.02-.2 1.41-.59l7.78-7.78 2.81-2.81c.8-.78.8-2.07 0-2.86zM5.41 20L4 18.59l7.72-7.72 1.47 1.35L5.41 20z\"/>\n",
              "  </svg>\n",
              "      </button>\n",
              "      \n",
              "  <style>\n",
              "    .colab-df-container {\n",
              "      display:flex;\n",
              "      flex-wrap:wrap;\n",
              "      gap: 12px;\n",
              "    }\n",
              "\n",
              "    .colab-df-convert {\n",
              "      background-color: #E8F0FE;\n",
              "      border: none;\n",
              "      border-radius: 50%;\n",
              "      cursor: pointer;\n",
              "      display: none;\n",
              "      fill: #1967D2;\n",
              "      height: 32px;\n",
              "      padding: 0 0 0 0;\n",
              "      width: 32px;\n",
              "    }\n",
              "\n",
              "    .colab-df-convert:hover {\n",
              "      background-color: #E2EBFA;\n",
              "      box-shadow: 0px 1px 2px rgba(60, 64, 67, 0.3), 0px 1px 3px 1px rgba(60, 64, 67, 0.15);\n",
              "      fill: #174EA6;\n",
              "    }\n",
              "\n",
              "    [theme=dark] .colab-df-convert {\n",
              "      background-color: #3B4455;\n",
              "      fill: #D2E3FC;\n",
              "    }\n",
              "\n",
              "    [theme=dark] .colab-df-convert:hover {\n",
              "      background-color: #434B5C;\n",
              "      box-shadow: 0px 1px 3px 1px rgba(0, 0, 0, 0.15);\n",
              "      filter: drop-shadow(0px 1px 2px rgba(0, 0, 0, 0.3));\n",
              "      fill: #FFFFFF;\n",
              "    }\n",
              "  </style>\n",
              "\n",
              "      <script>\n",
              "        const buttonEl =\n",
              "          document.querySelector('#df-d43e3ce5-92c9-4aa0-9070-de078e61a560 button.colab-df-convert');\n",
              "        buttonEl.style.display =\n",
              "          google.colab.kernel.accessAllowed ? 'block' : 'none';\n",
              "\n",
              "        async function convertToInteractive(key) {\n",
              "          const element = document.querySelector('#df-d43e3ce5-92c9-4aa0-9070-de078e61a560');\n",
              "          const dataTable =\n",
              "            await google.colab.kernel.invokeFunction('convertToInteractive',\n",
              "                                                     [key], {});\n",
              "          if (!dataTable) return;\n",
              "\n",
              "          const docLinkHtml = 'Like what you see? Visit the ' +\n",
              "            '<a target=\"_blank\" href=https://colab.research.google.com/notebooks/data_table.ipynb>data table notebook</a>'\n",
              "            + ' to learn more about interactive tables.';\n",
              "          element.innerHTML = '';\n",
              "          dataTable['output_type'] = 'display_data';\n",
              "          await google.colab.output.renderOutput(dataTable, element);\n",
              "          const docLink = document.createElement('div');\n",
              "          docLink.innerHTML = docLinkHtml;\n",
              "          element.appendChild(docLink);\n",
              "        }\n",
              "      </script>\n",
              "    </div>\n",
              "  </div>\n",
              "  "
            ]
          },
          "metadata": {},
          "execution_count": 48
        }
      ]
    },
    {
      "cell_type": "code",
      "source": [
        "xfeatures1 = df_nl1[['facts_clean','decision_type','disposition']]\n",
        "ylabel1 = df_nl1['first_party_winner']"
      ],
      "metadata": {
        "execution": {
          "iopub.status.busy": "2023-05-16T15:30:33.187386Z",
          "iopub.execute_input": "2023-05-16T15:30:33.188782Z",
          "iopub.status.idle": "2023-05-16T15:30:33.195788Z",
          "shell.execute_reply.started": "2023-05-16T15:30:33.188745Z",
          "shell.execute_reply": "2023-05-16T15:30:33.195103Z"
        },
        "trusted": true,
        "id": "hmrFOk3MgFbX"
      },
      "execution_count": 49,
      "outputs": []
    },
    {
      "cell_type": "code",
      "source": [
        "df_cat1 = pd.get_dummies(df_cat['decision_type'])"
      ],
      "metadata": {
        "execution": {
          "iopub.status.busy": "2023-05-16T15:30:33.196981Z",
          "iopub.execute_input": "2023-05-16T15:30:33.197434Z",
          "iopub.status.idle": "2023-05-16T15:30:33.206308Z",
          "shell.execute_reply.started": "2023-05-16T15:30:33.197395Z",
          "shell.execute_reply": "2023-05-16T15:30:33.205565Z"
        },
        "trusted": true,
        "id": "0r1kXtm7gFbX"
      },
      "execution_count": 50,
      "outputs": []
    },
    {
      "cell_type": "code",
      "source": [
        "df_cat2 = pd.get_dummies(df_cat['disposition'])"
      ],
      "metadata": {
        "execution": {
          "iopub.status.busy": "2023-05-16T15:30:33.207736Z",
          "iopub.execute_input": "2023-05-16T15:30:33.208022Z",
          "iopub.status.idle": "2023-05-16T15:30:33.216974Z",
          "shell.execute_reply.started": "2023-05-16T15:30:33.207984Z",
          "shell.execute_reply": "2023-05-16T15:30:33.216237Z"
        },
        "trusted": true,
        "id": "1ToHRbsrgFbX"
      },
      "execution_count": 51,
      "outputs": []
    },
    {
      "cell_type": "code",
      "source": [
        "df_cat3=pd.concat([df_cat2,df_cat1],axis=1,join='inner')"
      ],
      "metadata": {
        "execution": {
          "iopub.status.busy": "2023-05-16T15:30:33.218256Z",
          "iopub.execute_input": "2023-05-16T15:30:33.218570Z",
          "iopub.status.idle": "2023-05-16T15:30:33.228291Z",
          "shell.execute_reply.started": "2023-05-16T15:30:33.218510Z",
          "shell.execute_reply": "2023-05-16T15:30:33.227370Z"
        },
        "trusted": true,
        "id": "tu0gOnCtgFbX"
      },
      "execution_count": 52,
      "outputs": []
    },
    {
      "cell_type": "code",
      "source": [
        "df_cat3.columns"
      ],
      "metadata": {
        "execution": {
          "iopub.status.busy": "2023-05-16T15:30:33.230683Z",
          "iopub.execute_input": "2023-05-16T15:30:33.230919Z",
          "iopub.status.idle": "2023-05-16T15:30:33.240540Z",
          "shell.execute_reply.started": "2023-05-16T15:30:33.230886Z",
          "shell.execute_reply": "2023-05-16T15:30:33.239619Z"
        },
        "trusted": true,
        "id": "n-MV6PIvgFbY",
        "colab": {
          "base_uri": "https://localhost:8080/"
        },
        "outputId": "35935789-60cb-49aa-8a12-c8f389a6f761"
      },
      "execution_count": 53,
      "outputs": [
        {
          "output_type": "execute_result",
          "data": {
            "text/plain": [
              "Index(['affirmed', 'none', 'reversed', 'reversed in-part',\n",
              "       'reversed in-part/remanded', 'reversed/remanded', 'vacated',\n",
              "       'vacated in-part/remanded', 'vacated/remanded',\n",
              "       'dismissal - improvidently granted', 'dismissal - moot',\n",
              "       'dismissal - other', 'equally divided', 'majority opinion',\n",
              "       'opinion of the court', 'per curiam', 'plurality opinion'],\n",
              "      dtype='object')"
            ]
          },
          "metadata": {},
          "execution_count": 53
        }
      ]
    },
    {
      "cell_type": "code",
      "source": [
        "df_cat3=pd.concat([df_cat3,df_nl1['first_party_winner']],axis=1,join='inner')"
      ],
      "metadata": {
        "execution": {
          "iopub.status.busy": "2023-05-16T15:30:33.241808Z",
          "iopub.execute_input": "2023-05-16T15:30:33.242473Z",
          "iopub.status.idle": "2023-05-16T15:30:33.251106Z",
          "shell.execute_reply.started": "2023-05-16T15:30:33.242429Z",
          "shell.execute_reply": "2023-05-16T15:30:33.250327Z"
        },
        "trusted": true,
        "id": "cQZsNu86gFbY"
      },
      "execution_count": 54,
      "outputs": []
    },
    {
      "cell_type": "code",
      "source": [
        "vectorize=CountVectorizer()"
      ],
      "metadata": {
        "execution": {
          "iopub.status.busy": "2023-05-16T15:30:33.252311Z",
          "iopub.execute_input": "2023-05-16T15:30:33.252908Z",
          "iopub.status.idle": "2023-05-16T15:30:33.259662Z",
          "shell.execute_reply.started": "2023-05-16T15:30:33.252867Z",
          "shell.execute_reply": "2023-05-16T15:30:33.258600Z"
        },
        "trusted": true,
        "id": "fUfYz-b6gFbY"
      },
      "execution_count": 55,
      "outputs": []
    },
    {
      "cell_type": "code",
      "source": [
        "count_matrix = vectorize.fit_transform(df_nl1['facts_clean'])\n",
        "count_array = count_matrix.toarray()\n",
        "data_final = pd.DataFrame(data=count_array,columns = vectorize.get_feature_names_out())"
      ],
      "metadata": {
        "execution": {
          "iopub.status.busy": "2023-05-16T15:30:33.261067Z",
          "iopub.execute_input": "2023-05-16T15:30:33.261480Z",
          "iopub.status.idle": "2023-05-16T15:30:33.990753Z",
          "shell.execute_reply.started": "2023-05-16T15:30:33.261415Z",
          "shell.execute_reply": "2023-05-16T15:30:33.989949Z"
        },
        "trusted": true,
        "id": "UdEttvusgFbY"
      },
      "execution_count": 56,
      "outputs": []
    },
    {
      "cell_type": "code",
      "source": [
        "data_final = pd.concat([data_final,df_cat3],axis=1,join='inner')"
      ],
      "metadata": {
        "execution": {
          "iopub.status.busy": "2023-05-16T15:30:33.995057Z",
          "iopub.execute_input": "2023-05-16T15:30:34.001241Z",
          "iopub.status.idle": "2023-05-16T15:30:34.831306Z",
          "shell.execute_reply.started": "2023-05-16T15:30:34.001197Z",
          "shell.execute_reply": "2023-05-16T15:30:34.830526Z"
        },
        "trusted": true,
        "id": "bXg5oQYmgFbY"
      },
      "execution_count": 57,
      "outputs": []
    },
    {
      "cell_type": "code",
      "source": [
        "data_final"
      ],
      "metadata": {
        "execution": {
          "iopub.status.busy": "2023-05-16T15:30:34.832429Z",
          "iopub.execute_input": "2023-05-16T15:30:34.832820Z",
          "iopub.status.idle": "2023-05-16T15:30:34.871943Z",
          "shell.execute_reply.started": "2023-05-16T15:30:34.832785Z",
          "shell.execute_reply": "2023-05-16T15:30:34.871289Z"
        },
        "trusted": true,
        "id": "lt0ZtUnWgFbY",
        "colab": {
          "base_uri": "https://localhost:8080/",
          "height": 522
        },
        "outputId": "582cd1b9-1f10-41e6-9a9c-69f9e244de57"
      },
      "execution_count": 58,
      "outputs": [
        {
          "output_type": "execute_result",
          "data": {
            "text/plain": [
              "      011119  0125  01657  019  02  036539  04  041352  041581  045323  ...  \\\n",
              "0          0     0      0    0   0       0   0       0       0       0  ...   \n",
              "1          0     0      0    0   0       0   0       0       0       0  ...   \n",
              "2          0     0      0    0   0       0   0       0       0       0  ...   \n",
              "3          0     0      0    0   0       0   0       0       0       0  ...   \n",
              "4          0     0      0    0   0       0   0       0       0       0  ...   \n",
              "...      ...   ...    ...  ...  ..     ...  ..     ...     ...     ...  ...   \n",
              "3093       0     0      0    0   0       0   0       0       0       0  ...   \n",
              "3094       0     0      0    0   0       0   0       0       0       0  ...   \n",
              "3095       0     0      0    0   0       0   0       0       0       0  ...   \n",
              "3096       0     0      0    0   0       0   0       0       0       0  ...   \n",
              "3097       0     0      0    0   0       0   0       0       0       0  ...   \n",
              "\n",
              "      vacated/remanded  dismissal - improvidently granted  dismissal - moot  \\\n",
              "0                    0                                  0                 0   \n",
              "1                    0                                  0                 0   \n",
              "2                    0                                  0                 0   \n",
              "3                    1                                  0                 0   \n",
              "4                    0                                  0                 0   \n",
              "...                ...                                ...               ...   \n",
              "3093                 0                                  0                 0   \n",
              "3094                 0                                  0                 0   \n",
              "3095                 0                                  0                 0   \n",
              "3096                 1                                  0                 0   \n",
              "3097                 0                                  0                 0   \n",
              "\n",
              "      dismissal - other  equally divided  majority opinion  \\\n",
              "0                     0                0                 1   \n",
              "1                     0                0                 1   \n",
              "2                     0                0                 1   \n",
              "3                     0                0                 1   \n",
              "4                     0                0                 1   \n",
              "...                 ...              ...               ...   \n",
              "3093                  0                0                 1   \n",
              "3094                  0                0                 1   \n",
              "3095                  0                0                 1   \n",
              "3096                  0                0                 1   \n",
              "3097                  0                0                 1   \n",
              "\n",
              "      opinion of the court  per curiam  plurality opinion  first_party_winner  \n",
              "0                        0           0                  0                   1  \n",
              "1                        0           0                  0                   1  \n",
              "2                        0           0                  0                   1  \n",
              "3                        0           0                  0                   1  \n",
              "4                        0           0                  0                   1  \n",
              "...                    ...         ...                ...                 ...  \n",
              "3093                     0           0                  0                   1  \n",
              "3094                     0           0                  0                   1  \n",
              "3095                     0           0                  0                   0  \n",
              "3096                     0           0                  0                   1  \n",
              "3097                     0           0                  0                   1  \n",
              "\n",
              "[3098 rows x 20269 columns]"
            ],
            "text/html": [
              "\n",
              "  <div id=\"df-0e2bc5d9-a0ab-4723-85dc-dbe3288746f6\">\n",
              "    <div class=\"colab-df-container\">\n",
              "      <div>\n",
              "<style scoped>\n",
              "    .dataframe tbody tr th:only-of-type {\n",
              "        vertical-align: middle;\n",
              "    }\n",
              "\n",
              "    .dataframe tbody tr th {\n",
              "        vertical-align: top;\n",
              "    }\n",
              "\n",
              "    .dataframe thead th {\n",
              "        text-align: right;\n",
              "    }\n",
              "</style>\n",
              "<table border=\"1\" class=\"dataframe\">\n",
              "  <thead>\n",
              "    <tr style=\"text-align: right;\">\n",
              "      <th></th>\n",
              "      <th>011119</th>\n",
              "      <th>0125</th>\n",
              "      <th>01657</th>\n",
              "      <th>019</th>\n",
              "      <th>02</th>\n",
              "      <th>036539</th>\n",
              "      <th>04</th>\n",
              "      <th>041352</th>\n",
              "      <th>041581</th>\n",
              "      <th>045323</th>\n",
              "      <th>...</th>\n",
              "      <th>vacated/remanded</th>\n",
              "      <th>dismissal - improvidently granted</th>\n",
              "      <th>dismissal - moot</th>\n",
              "      <th>dismissal - other</th>\n",
              "      <th>equally divided</th>\n",
              "      <th>majority opinion</th>\n",
              "      <th>opinion of the court</th>\n",
              "      <th>per curiam</th>\n",
              "      <th>plurality opinion</th>\n",
              "      <th>first_party_winner</th>\n",
              "    </tr>\n",
              "  </thead>\n",
              "  <tbody>\n",
              "    <tr>\n",
              "      <th>0</th>\n",
              "      <td>0</td>\n",
              "      <td>0</td>\n",
              "      <td>0</td>\n",
              "      <td>0</td>\n",
              "      <td>0</td>\n",
              "      <td>0</td>\n",
              "      <td>0</td>\n",
              "      <td>0</td>\n",
              "      <td>0</td>\n",
              "      <td>0</td>\n",
              "      <td>...</td>\n",
              "      <td>0</td>\n",
              "      <td>0</td>\n",
              "      <td>0</td>\n",
              "      <td>0</td>\n",
              "      <td>0</td>\n",
              "      <td>1</td>\n",
              "      <td>0</td>\n",
              "      <td>0</td>\n",
              "      <td>0</td>\n",
              "      <td>1</td>\n",
              "    </tr>\n",
              "    <tr>\n",
              "      <th>1</th>\n",
              "      <td>0</td>\n",
              "      <td>0</td>\n",
              "      <td>0</td>\n",
              "      <td>0</td>\n",
              "      <td>0</td>\n",
              "      <td>0</td>\n",
              "      <td>0</td>\n",
              "      <td>0</td>\n",
              "      <td>0</td>\n",
              "      <td>0</td>\n",
              "      <td>...</td>\n",
              "      <td>0</td>\n",
              "      <td>0</td>\n",
              "      <td>0</td>\n",
              "      <td>0</td>\n",
              "      <td>0</td>\n",
              "      <td>1</td>\n",
              "      <td>0</td>\n",
              "      <td>0</td>\n",
              "      <td>0</td>\n",
              "      <td>1</td>\n",
              "    </tr>\n",
              "    <tr>\n",
              "      <th>2</th>\n",
              "      <td>0</td>\n",
              "      <td>0</td>\n",
              "      <td>0</td>\n",
              "      <td>0</td>\n",
              "      <td>0</td>\n",
              "      <td>0</td>\n",
              "      <td>0</td>\n",
              "      <td>0</td>\n",
              "      <td>0</td>\n",
              "      <td>0</td>\n",
              "      <td>...</td>\n",
              "      <td>0</td>\n",
              "      <td>0</td>\n",
              "      <td>0</td>\n",
              "      <td>0</td>\n",
              "      <td>0</td>\n",
              "      <td>1</td>\n",
              "      <td>0</td>\n",
              "      <td>0</td>\n",
              "      <td>0</td>\n",
              "      <td>1</td>\n",
              "    </tr>\n",
              "    <tr>\n",
              "      <th>3</th>\n",
              "      <td>0</td>\n",
              "      <td>0</td>\n",
              "      <td>0</td>\n",
              "      <td>0</td>\n",
              "      <td>0</td>\n",
              "      <td>0</td>\n",
              "      <td>0</td>\n",
              "      <td>0</td>\n",
              "      <td>0</td>\n",
              "      <td>0</td>\n",
              "      <td>...</td>\n",
              "      <td>1</td>\n",
              "      <td>0</td>\n",
              "      <td>0</td>\n",
              "      <td>0</td>\n",
              "      <td>0</td>\n",
              "      <td>1</td>\n",
              "      <td>0</td>\n",
              "      <td>0</td>\n",
              "      <td>0</td>\n",
              "      <td>1</td>\n",
              "    </tr>\n",
              "    <tr>\n",
              "      <th>4</th>\n",
              "      <td>0</td>\n",
              "      <td>0</td>\n",
              "      <td>0</td>\n",
              "      <td>0</td>\n",
              "      <td>0</td>\n",
              "      <td>0</td>\n",
              "      <td>0</td>\n",
              "      <td>0</td>\n",
              "      <td>0</td>\n",
              "      <td>0</td>\n",
              "      <td>...</td>\n",
              "      <td>0</td>\n",
              "      <td>0</td>\n",
              "      <td>0</td>\n",
              "      <td>0</td>\n",
              "      <td>0</td>\n",
              "      <td>1</td>\n",
              "      <td>0</td>\n",
              "      <td>0</td>\n",
              "      <td>0</td>\n",
              "      <td>1</td>\n",
              "    </tr>\n",
              "    <tr>\n",
              "      <th>...</th>\n",
              "      <td>...</td>\n",
              "      <td>...</td>\n",
              "      <td>...</td>\n",
              "      <td>...</td>\n",
              "      <td>...</td>\n",
              "      <td>...</td>\n",
              "      <td>...</td>\n",
              "      <td>...</td>\n",
              "      <td>...</td>\n",
              "      <td>...</td>\n",
              "      <td>...</td>\n",
              "      <td>...</td>\n",
              "      <td>...</td>\n",
              "      <td>...</td>\n",
              "      <td>...</td>\n",
              "      <td>...</td>\n",
              "      <td>...</td>\n",
              "      <td>...</td>\n",
              "      <td>...</td>\n",
              "      <td>...</td>\n",
              "      <td>...</td>\n",
              "    </tr>\n",
              "    <tr>\n",
              "      <th>3093</th>\n",
              "      <td>0</td>\n",
              "      <td>0</td>\n",
              "      <td>0</td>\n",
              "      <td>0</td>\n",
              "      <td>0</td>\n",
              "      <td>0</td>\n",
              "      <td>0</td>\n",
              "      <td>0</td>\n",
              "      <td>0</td>\n",
              "      <td>0</td>\n",
              "      <td>...</td>\n",
              "      <td>0</td>\n",
              "      <td>0</td>\n",
              "      <td>0</td>\n",
              "      <td>0</td>\n",
              "      <td>0</td>\n",
              "      <td>1</td>\n",
              "      <td>0</td>\n",
              "      <td>0</td>\n",
              "      <td>0</td>\n",
              "      <td>1</td>\n",
              "    </tr>\n",
              "    <tr>\n",
              "      <th>3094</th>\n",
              "      <td>0</td>\n",
              "      <td>0</td>\n",
              "      <td>0</td>\n",
              "      <td>0</td>\n",
              "      <td>0</td>\n",
              "      <td>0</td>\n",
              "      <td>0</td>\n",
              "      <td>0</td>\n",
              "      <td>0</td>\n",
              "      <td>0</td>\n",
              "      <td>...</td>\n",
              "      <td>0</td>\n",
              "      <td>0</td>\n",
              "      <td>0</td>\n",
              "      <td>0</td>\n",
              "      <td>0</td>\n",
              "      <td>1</td>\n",
              "      <td>0</td>\n",
              "      <td>0</td>\n",
              "      <td>0</td>\n",
              "      <td>1</td>\n",
              "    </tr>\n",
              "    <tr>\n",
              "      <th>3095</th>\n",
              "      <td>0</td>\n",
              "      <td>0</td>\n",
              "      <td>0</td>\n",
              "      <td>0</td>\n",
              "      <td>0</td>\n",
              "      <td>0</td>\n",
              "      <td>0</td>\n",
              "      <td>0</td>\n",
              "      <td>0</td>\n",
              "      <td>0</td>\n",
              "      <td>...</td>\n",
              "      <td>0</td>\n",
              "      <td>0</td>\n",
              "      <td>0</td>\n",
              "      <td>0</td>\n",
              "      <td>0</td>\n",
              "      <td>1</td>\n",
              "      <td>0</td>\n",
              "      <td>0</td>\n",
              "      <td>0</td>\n",
              "      <td>0</td>\n",
              "    </tr>\n",
              "    <tr>\n",
              "      <th>3096</th>\n",
              "      <td>0</td>\n",
              "      <td>0</td>\n",
              "      <td>0</td>\n",
              "      <td>0</td>\n",
              "      <td>0</td>\n",
              "      <td>0</td>\n",
              "      <td>0</td>\n",
              "      <td>0</td>\n",
              "      <td>0</td>\n",
              "      <td>0</td>\n",
              "      <td>...</td>\n",
              "      <td>1</td>\n",
              "      <td>0</td>\n",
              "      <td>0</td>\n",
              "      <td>0</td>\n",
              "      <td>0</td>\n",
              "      <td>1</td>\n",
              "      <td>0</td>\n",
              "      <td>0</td>\n",
              "      <td>0</td>\n",
              "      <td>1</td>\n",
              "    </tr>\n",
              "    <tr>\n",
              "      <th>3097</th>\n",
              "      <td>0</td>\n",
              "      <td>0</td>\n",
              "      <td>0</td>\n",
              "      <td>0</td>\n",
              "      <td>0</td>\n",
              "      <td>0</td>\n",
              "      <td>0</td>\n",
              "      <td>0</td>\n",
              "      <td>0</td>\n",
              "      <td>0</td>\n",
              "      <td>...</td>\n",
              "      <td>0</td>\n",
              "      <td>0</td>\n",
              "      <td>0</td>\n",
              "      <td>0</td>\n",
              "      <td>0</td>\n",
              "      <td>1</td>\n",
              "      <td>0</td>\n",
              "      <td>0</td>\n",
              "      <td>0</td>\n",
              "      <td>1</td>\n",
              "    </tr>\n",
              "  </tbody>\n",
              "</table>\n",
              "<p>3098 rows × 20269 columns</p>\n",
              "</div>\n",
              "      <button class=\"colab-df-convert\" onclick=\"convertToInteractive('df-0e2bc5d9-a0ab-4723-85dc-dbe3288746f6')\"\n",
              "              title=\"Convert this dataframe to an interactive table.\"\n",
              "              style=\"display:none;\">\n",
              "        \n",
              "  <svg xmlns=\"http://www.w3.org/2000/svg\" height=\"24px\"viewBox=\"0 0 24 24\"\n",
              "       width=\"24px\">\n",
              "    <path d=\"M0 0h24v24H0V0z\" fill=\"none\"/>\n",
              "    <path d=\"M18.56 5.44l.94 2.06.94-2.06 2.06-.94-2.06-.94-.94-2.06-.94 2.06-2.06.94zm-11 1L8.5 8.5l.94-2.06 2.06-.94-2.06-.94L8.5 2.5l-.94 2.06-2.06.94zm10 10l.94 2.06.94-2.06 2.06-.94-2.06-.94-.94-2.06-.94 2.06-2.06.94z\"/><path d=\"M17.41 7.96l-1.37-1.37c-.4-.4-.92-.59-1.43-.59-.52 0-1.04.2-1.43.59L10.3 9.45l-7.72 7.72c-.78.78-.78 2.05 0 2.83L4 21.41c.39.39.9.59 1.41.59.51 0 1.02-.2 1.41-.59l7.78-7.78 2.81-2.81c.8-.78.8-2.07 0-2.86zM5.41 20L4 18.59l7.72-7.72 1.47 1.35L5.41 20z\"/>\n",
              "  </svg>\n",
              "      </button>\n",
              "      \n",
              "  <style>\n",
              "    .colab-df-container {\n",
              "      display:flex;\n",
              "      flex-wrap:wrap;\n",
              "      gap: 12px;\n",
              "    }\n",
              "\n",
              "    .colab-df-convert {\n",
              "      background-color: #E8F0FE;\n",
              "      border: none;\n",
              "      border-radius: 50%;\n",
              "      cursor: pointer;\n",
              "      display: none;\n",
              "      fill: #1967D2;\n",
              "      height: 32px;\n",
              "      padding: 0 0 0 0;\n",
              "      width: 32px;\n",
              "    }\n",
              "\n",
              "    .colab-df-convert:hover {\n",
              "      background-color: #E2EBFA;\n",
              "      box-shadow: 0px 1px 2px rgba(60, 64, 67, 0.3), 0px 1px 3px 1px rgba(60, 64, 67, 0.15);\n",
              "      fill: #174EA6;\n",
              "    }\n",
              "\n",
              "    [theme=dark] .colab-df-convert {\n",
              "      background-color: #3B4455;\n",
              "      fill: #D2E3FC;\n",
              "    }\n",
              "\n",
              "    [theme=dark] .colab-df-convert:hover {\n",
              "      background-color: #434B5C;\n",
              "      box-shadow: 0px 1px 3px 1px rgba(0, 0, 0, 0.15);\n",
              "      filter: drop-shadow(0px 1px 2px rgba(0, 0, 0, 0.3));\n",
              "      fill: #FFFFFF;\n",
              "    }\n",
              "  </style>\n",
              "\n",
              "      <script>\n",
              "        const buttonEl =\n",
              "          document.querySelector('#df-0e2bc5d9-a0ab-4723-85dc-dbe3288746f6 button.colab-df-convert');\n",
              "        buttonEl.style.display =\n",
              "          google.colab.kernel.accessAllowed ? 'block' : 'none';\n",
              "\n",
              "        async function convertToInteractive(key) {\n",
              "          const element = document.querySelector('#df-0e2bc5d9-a0ab-4723-85dc-dbe3288746f6');\n",
              "          const dataTable =\n",
              "            await google.colab.kernel.invokeFunction('convertToInteractive',\n",
              "                                                     [key], {});\n",
              "          if (!dataTable) return;\n",
              "\n",
              "          const docLinkHtml = 'Like what you see? Visit the ' +\n",
              "            '<a target=\"_blank\" href=https://colab.research.google.com/notebooks/data_table.ipynb>data table notebook</a>'\n",
              "            + ' to learn more about interactive tables.';\n",
              "          element.innerHTML = '';\n",
              "          dataTable['output_type'] = 'display_data';\n",
              "          await google.colab.output.renderOutput(dataTable, element);\n",
              "          const docLink = document.createElement('div');\n",
              "          docLink.innerHTML = docLinkHtml;\n",
              "          element.appendChild(docLink);\n",
              "        }\n",
              "      </script>\n",
              "    </div>\n",
              "  </div>\n",
              "  "
            ]
          },
          "metadata": {},
          "execution_count": 58
        }
      ]
    },
    {
      "cell_type": "code",
      "source": [
        "X_train, X_test, y_train, y_test = train_test_split(data_final.drop(columns=['first_party_winner']),\n",
        "                                                    data_final['first_party_winner'], \n",
        "                                                    test_size=0.3,random_state=10)"
      ],
      "metadata": {
        "execution": {
          "iopub.status.busy": "2023-05-16T15:30:34.873109Z",
          "iopub.execute_input": "2023-05-16T15:30:34.877306Z",
          "iopub.status.idle": "2023-05-16T15:30:35.741358Z",
          "shell.execute_reply.started": "2023-05-16T15:30:34.877267Z",
          "shell.execute_reply": "2023-05-16T15:30:35.740588Z"
        },
        "trusted": true,
        "id": "KQyTOVCsgFbZ"
      },
      "execution_count": 59,
      "outputs": []
    },
    {
      "cell_type": "code",
      "source": [
        "from sklearn.preprocessing import StandardScaler\n",
        "scaler = StandardScaler()\n",
        "data_final = scaler.fit_transform(data_final)"
      ],
      "metadata": {
        "execution": {
          "iopub.status.busy": "2023-05-16T15:30:35.742661Z",
          "iopub.execute_input": "2023-05-16T15:30:35.742910Z",
          "iopub.status.idle": "2023-05-16T15:30:38.052250Z",
          "shell.execute_reply.started": "2023-05-16T15:30:35.742875Z",
          "shell.execute_reply": "2023-05-16T15:30:38.051465Z"
        },
        "trusted": true,
        "id": "_91p6ePngFbZ"
      },
      "execution_count": 60,
      "outputs": []
    },
    {
      "cell_type": "markdown",
      "source": [
        "# 10. Performing LDA and hyper-parameter tuning"
      ],
      "metadata": {
        "id": "3TCyFQ-KgFbZ"
      }
    },
    {
      "cell_type": "code",
      "source": [
        "from sklearn.decomposition import LatentDirichletAllocation\n",
        "lda = LatentDirichletAllocation(n_components=200, random_state=0)\n",
        "lda_data = lda.fit_transform(X_train)"
      ],
      "metadata": {
        "execution": {
          "iopub.status.busy": "2023-05-16T15:30:38.053580Z",
          "iopub.execute_input": "2023-05-16T15:30:38.053834Z",
          "iopub.status.idle": "2023-05-16T15:31:41.386810Z",
          "shell.execute_reply.started": "2023-05-16T15:30:38.053798Z",
          "shell.execute_reply": "2023-05-16T15:31:41.385676Z"
        },
        "trusted": true,
        "id": "p_v0JG2lgFbZ"
      },
      "execution_count": 61,
      "outputs": []
    },
    {
      "cell_type": "code",
      "source": [
        "lda_data_train = pd.DataFrame(data=lda_data)"
      ],
      "metadata": {
        "execution": {
          "iopub.status.busy": "2023-05-16T15:31:41.393541Z",
          "iopub.execute_input": "2023-05-16T15:31:41.394115Z",
          "iopub.status.idle": "2023-05-16T15:31:41.405888Z",
          "shell.execute_reply.started": "2023-05-16T15:31:41.394058Z",
          "shell.execute_reply": "2023-05-16T15:31:41.404808Z"
        },
        "trusted": true,
        "id": "5WDfH_UIgFbZ"
      },
      "execution_count": 62,
      "outputs": []
    },
    {
      "cell_type": "code",
      "source": [
        "lda_data_test = pd.DataFrame(data=lda.transform(X_test))"
      ],
      "metadata": {
        "execution": {
          "iopub.status.busy": "2023-05-16T15:31:41.411643Z",
          "iopub.execute_input": "2023-05-16T15:31:41.415650Z",
          "iopub.status.idle": "2023-05-16T15:31:44.165166Z",
          "shell.execute_reply.started": "2023-05-16T15:31:41.415587Z",
          "shell.execute_reply": "2023-05-16T15:31:44.164084Z"
        },
        "trusted": true,
        "id": "uC6foO7-gFbZ"
      },
      "execution_count": 63,
      "outputs": []
    },
    {
      "cell_type": "code",
      "source": [
        "# Create the parameter grid based on the results of random search \n",
        "from sklearn.model_selection import GridSearchCV\n",
        "param_grid = {\n",
        "    'max_depth': [8,10,12,14],\n",
        "    'max_features': [60,70,80,90,100],\n",
        "    'min_samples_leaf': [2, 3, 4],\n",
        "    'n_estimators': [100, 200, 300]\n",
        "}# Create a based model\n",
        "rf = RandomForestClassifier()# Instantiate the grid search model\n",
        "grid_search = GridSearchCV(estimator = rf, param_grid = param_grid, \n",
        "                          cv = 3, n_jobs = -1, verbose = 2)"
      ],
      "metadata": {
        "scrolled": true,
        "_kg_hide-input": true,
        "execution": {
          "iopub.status.busy": "2023-05-16T15:31:44.166669Z",
          "iopub.execute_input": "2023-05-16T15:31:44.166916Z",
          "iopub.status.idle": "2023-05-16T15:31:44.178079Z",
          "shell.execute_reply.started": "2023-05-16T15:31:44.166881Z",
          "shell.execute_reply": "2023-05-16T15:31:44.176463Z"
        },
        "trusted": true,
        "id": "F8NK-sj_gFbZ"
      },
      "execution_count": 64,
      "outputs": []
    },
    {
      "cell_type": "code",
      "source": [
        "grid_search.fit(lda_data_train, y_train)\n",
        "grid_search.best_params_"
      ],
      "metadata": {
        "scrolled": true,
        "_kg_hide-input": true,
        "_kg_hide-output": true,
        "execution": {
          "iopub.status.busy": "2023-05-16T15:31:44.179320Z",
          "iopub.execute_input": "2023-05-16T15:31:44.179723Z"
        },
        "trusted": true,
        "colab": {
          "base_uri": "https://localhost:8080/"
        },
        "id": "5HZpJjy-gFba",
        "outputId": "e868343b-8ed1-4f09-8b3c-2d21883308e8"
      },
      "execution_count": null,
      "outputs": [
        {
          "output_type": "stream",
          "name": "stdout",
          "text": [
            "Fitting 3 folds for each of 180 candidates, totalling 540 fits\n"
          ]
        }
      ]
    },
    {
      "cell_type": "code",
      "source": [
        "rand=RandomForestClassifier(max_depth= 8, max_features = 100, min_samples_leaf = 2, n_estimators = 200)"
      ],
      "metadata": {
        "trusted": true,
        "id": "1ho_C39rgFba"
      },
      "execution_count": 67,
      "outputs": []
    },
    {
      "cell_type": "code",
      "source": [
        "rand.fit(lda_data_train,y_train)"
      ],
      "metadata": {
        "trusted": true,
        "id": "vzAbOmhSgFba",
        "colab": {
          "base_uri": "https://localhost:8080/",
          "height": 92
        },
        "outputId": "e2e03869-214d-48a5-c1e2-fc3f95cd1ebb"
      },
      "execution_count": 68,
      "outputs": [
        {
          "output_type": "execute_result",
          "data": {
            "text/plain": [
              "RandomForestClassifier(max_depth=8, max_features=100, min_samples_leaf=2,\n",
              "                       n_estimators=200)"
            ],
            "text/html": [
              "<style>#sk-container-id-4 {color: black;background-color: white;}#sk-container-id-4 pre{padding: 0;}#sk-container-id-4 div.sk-toggleable {background-color: white;}#sk-container-id-4 label.sk-toggleable__label {cursor: pointer;display: block;width: 100%;margin-bottom: 0;padding: 0.3em;box-sizing: border-box;text-align: center;}#sk-container-id-4 label.sk-toggleable__label-arrow:before {content: \"▸\";float: left;margin-right: 0.25em;color: #696969;}#sk-container-id-4 label.sk-toggleable__label-arrow:hover:before {color: black;}#sk-container-id-4 div.sk-estimator:hover label.sk-toggleable__label-arrow:before {color: black;}#sk-container-id-4 div.sk-toggleable__content {max-height: 0;max-width: 0;overflow: hidden;text-align: left;background-color: #f0f8ff;}#sk-container-id-4 div.sk-toggleable__content pre {margin: 0.2em;color: black;border-radius: 0.25em;background-color: #f0f8ff;}#sk-container-id-4 input.sk-toggleable__control:checked~div.sk-toggleable__content {max-height: 200px;max-width: 100%;overflow: auto;}#sk-container-id-4 input.sk-toggleable__control:checked~label.sk-toggleable__label-arrow:before {content: \"▾\";}#sk-container-id-4 div.sk-estimator input.sk-toggleable__control:checked~label.sk-toggleable__label {background-color: #d4ebff;}#sk-container-id-4 div.sk-label input.sk-toggleable__control:checked~label.sk-toggleable__label {background-color: #d4ebff;}#sk-container-id-4 input.sk-hidden--visually {border: 0;clip: rect(1px 1px 1px 1px);clip: rect(1px, 1px, 1px, 1px);height: 1px;margin: -1px;overflow: hidden;padding: 0;position: absolute;width: 1px;}#sk-container-id-4 div.sk-estimator {font-family: monospace;background-color: #f0f8ff;border: 1px dotted black;border-radius: 0.25em;box-sizing: border-box;margin-bottom: 0.5em;}#sk-container-id-4 div.sk-estimator:hover {background-color: #d4ebff;}#sk-container-id-4 div.sk-parallel-item::after {content: \"\";width: 100%;border-bottom: 1px solid gray;flex-grow: 1;}#sk-container-id-4 div.sk-label:hover label.sk-toggleable__label {background-color: #d4ebff;}#sk-container-id-4 div.sk-serial::before {content: \"\";position: absolute;border-left: 1px solid gray;box-sizing: border-box;top: 0;bottom: 0;left: 50%;z-index: 0;}#sk-container-id-4 div.sk-serial {display: flex;flex-direction: column;align-items: center;background-color: white;padding-right: 0.2em;padding-left: 0.2em;position: relative;}#sk-container-id-4 div.sk-item {position: relative;z-index: 1;}#sk-container-id-4 div.sk-parallel {display: flex;align-items: stretch;justify-content: center;background-color: white;position: relative;}#sk-container-id-4 div.sk-item::before, #sk-container-id-4 div.sk-parallel-item::before {content: \"\";position: absolute;border-left: 1px solid gray;box-sizing: border-box;top: 0;bottom: 0;left: 50%;z-index: -1;}#sk-container-id-4 div.sk-parallel-item {display: flex;flex-direction: column;z-index: 1;position: relative;background-color: white;}#sk-container-id-4 div.sk-parallel-item:first-child::after {align-self: flex-end;width: 50%;}#sk-container-id-4 div.sk-parallel-item:last-child::after {align-self: flex-start;width: 50%;}#sk-container-id-4 div.sk-parallel-item:only-child::after {width: 0;}#sk-container-id-4 div.sk-dashed-wrapped {border: 1px dashed gray;margin: 0 0.4em 0.5em 0.4em;box-sizing: border-box;padding-bottom: 0.4em;background-color: white;}#sk-container-id-4 div.sk-label label {font-family: monospace;font-weight: bold;display: inline-block;line-height: 1.2em;}#sk-container-id-4 div.sk-label-container {text-align: center;}#sk-container-id-4 div.sk-container {/* jupyter's `normalize.less` sets `[hidden] { display: none; }` but bootstrap.min.css set `[hidden] { display: none !important; }` so we also need the `!important` here to be able to override the default hidden behavior on the sphinx rendered scikit-learn.org. See: https://github.com/scikit-learn/scikit-learn/issues/21755 */display: inline-block !important;position: relative;}#sk-container-id-4 div.sk-text-repr-fallback {display: none;}</style><div id=\"sk-container-id-4\" class=\"sk-top-container\"><div class=\"sk-text-repr-fallback\"><pre>RandomForestClassifier(max_depth=8, max_features=100, min_samples_leaf=2,\n",
              "                       n_estimators=200)</pre><b>In a Jupyter environment, please rerun this cell to show the HTML representation or trust the notebook. <br />On GitHub, the HTML representation is unable to render, please try loading this page with nbviewer.org.</b></div><div class=\"sk-container\" hidden><div class=\"sk-item\"><div class=\"sk-estimator sk-toggleable\"><input class=\"sk-toggleable__control sk-hidden--visually\" id=\"sk-estimator-id-10\" type=\"checkbox\" checked><label for=\"sk-estimator-id-10\" class=\"sk-toggleable__label sk-toggleable__label-arrow\">RandomForestClassifier</label><div class=\"sk-toggleable__content\"><pre>RandomForestClassifier(max_depth=8, max_features=100, min_samples_leaf=2,\n",
              "                       n_estimators=200)</pre></div></div></div></div></div>"
            ]
          },
          "metadata": {},
          "execution_count": 68
        }
      ]
    },
    {
      "cell_type": "code",
      "source": [
        "rand.score(lda_data_train,y_train)"
      ],
      "metadata": {
        "trusted": true,
        "id": "ip0kI3FngFba",
        "colab": {
          "base_uri": "https://localhost:8080/"
        },
        "outputId": "6948c1aa-6cb9-4668-ce7e-499af7dd6874"
      },
      "execution_count": 69,
      "outputs": [
        {
          "output_type": "execute_result",
          "data": {
            "text/plain": [
              "0.7011070110701108"
            ]
          },
          "metadata": {},
          "execution_count": 69
        }
      ]
    },
    {
      "cell_type": "code",
      "source": [
        "rand.score(lda_data_test,y_test)"
      ],
      "metadata": {
        "trusted": true,
        "id": "AkdnvOCfgFba"
      },
      "execution_count": null,
      "outputs": []
    },
    {
      "cell_type": "code",
      "source": [
        "from sklearn.metrics import f1_score"
      ],
      "metadata": {
        "scrolled": true,
        "trusted": true,
        "id": "H0AaoWuJgFba"
      },
      "execution_count": null,
      "outputs": []
    },
    {
      "cell_type": "code",
      "source": [
        "y_pred1 = rand.predict(lda_data_test)\n",
        "f1_score(y_test, y_pred1)"
      ],
      "metadata": {
        "trusted": true,
        "id": "7XZVybiVgFbb"
      },
      "execution_count": null,
      "outputs": []
    },
    {
      "cell_type": "code",
      "source": [
        "model = XGBClassifier()\n",
        "model.fit(lda_data_train, y_train)\n",
        "y_pred = model.predict(lda_data_test)\n",
        "predictions = [round(value) for value in y_pred]\n",
        "# evaluate predictions\n",
        "accuracy = accuracy_score(y_test, predictions)\n",
        "print(\"Accuracy: %.2f%%\" % (accuracy * 100.0))\n",
        "f1_score(y_test, y_pred1)"
      ],
      "metadata": {
        "trusted": true,
        "id": "36_xg2JJgFbb"
      },
      "execution_count": null,
      "outputs": []
    },
    {
      "cell_type": "code",
      "source": [
        "knn=KNeighborsClassifier(n_neighbors=7)"
      ],
      "metadata": {
        "trusted": true,
        "id": "o644QyYngFbb"
      },
      "execution_count": null,
      "outputs": []
    },
    {
      "cell_type": "code",
      "source": [
        "knn.fit(lda_data_train,y_train)"
      ],
      "metadata": {
        "trusted": true,
        "id": "xvOrMiZTgFbb"
      },
      "execution_count": null,
      "outputs": []
    },
    {
      "cell_type": "code",
      "source": [
        "knn.score(lda_data_train,y_train)"
      ],
      "metadata": {
        "trusted": true,
        "id": "4bPuLaBygFbb"
      },
      "execution_count": null,
      "outputs": []
    },
    {
      "cell_type": "code",
      "source": [
        "knn.score(lda_data_test,y_test)"
      ],
      "metadata": {
        "trusted": true,
        "id": "E36_GHzEgFbb"
      },
      "execution_count": null,
      "outputs": []
    },
    {
      "cell_type": "markdown",
      "source": [
        "# 11. Deploying a LSTM Model to achieve higher accuracy"
      ],
      "metadata": {
        "id": "qKdChDw-gFbb"
      }
    },
    {
      "cell_type": "code",
      "source": [
        "import numpy as np\n",
        "from keras.preprocessing import sequence\n",
        "from keras.models import Sequential\n",
        "from keras.layers import Dense, Dropout, Embedding, LSTM, Bidirectional"
      ],
      "metadata": {
        "trusted": true,
        "id": "feQUhvK9gFbc"
      },
      "execution_count": null,
      "outputs": []
    },
    {
      "cell_type": "code",
      "source": [
        "n_unique_words = 10000 # cut texts after this number of words\n",
        "maxlen = 2000\n",
        "batch_size = 32"
      ],
      "metadata": {
        "trusted": true,
        "id": "lWHeq9gsgFbc"
      },
      "execution_count": null,
      "outputs": []
    },
    {
      "cell_type": "code",
      "source": [
        "model = Sequential()\n",
        "model.add(Embedding(n_unique_words, 128, input_length=maxlen))\n",
        "model.add(LSTM(64))\n",
        "model.add(Dropout(0.2))\n",
        "model.add(Dense(1, activation='sigmoid'))\n",
        "model.compile(loss='binary_crossentropy', optimizer='adam', metrics=['accuracy'])"
      ],
      "metadata": {
        "trusted": true,
        "id": "rfUo1z4agFbc"
      },
      "execution_count": null,
      "outputs": []
    },
    {
      "cell_type": "code",
      "source": [
        "history=model.fit(lda_data_train, y_train,\n",
        "           batch_size=batch_size,\n",
        "           epochs=200,\n",
        "           validation_data=[lda_data_test, y_test])"
      ],
      "metadata": {
        "scrolled": true,
        "_kg_hide-output": true,
        "trusted": true,
        "id": "UlFWIz1pgFbc"
      },
      "execution_count": null,
      "outputs": []
    },
    {
      "cell_type": "markdown",
      "source": [
        "# **Thank you for taking the time to go through our submission. Any feedback is always welcome.**"
      ],
      "metadata": {
        "id": "JhySRcu0gFbc"
      }
    }
  ]
}